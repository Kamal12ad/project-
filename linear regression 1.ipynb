{
 "cells": [
  {
   "cell_type": "code",
   "execution_count": 1,
   "id": "bb6435d5",
   "metadata": {},
   "outputs": [],
   "source": [
    "import numpy as np"
   ]
  },
  {
   "cell_type": "code",
   "execution_count": 2,
   "id": "d25ced16",
   "metadata": {},
   "outputs": [],
   "source": [
    "import pandas as pd"
   ]
  },
  {
   "cell_type": "code",
   "execution_count": 3,
   "id": "4acb4e50",
   "metadata": {},
   "outputs": [],
   "source": [
    "import matplotlib.pyplot as plt\n",
    "%matplotlib inline"
   ]
  },
  {
   "cell_type": "code",
   "execution_count": 4,
   "id": "25d24bad",
   "metadata": {},
   "outputs": [],
   "source": [
    "import seaborn as sns"
   ]
  },
  {
   "cell_type": "code",
   "execution_count": 6,
   "id": "427c407a",
   "metadata": {},
   "outputs": [],
   "source": [
    "dataset=pd.read_csv('C:/Users/Admin/Documents/simple linear regression/bodyfat.csv')"
   ]
  },
  {
   "cell_type": "code",
   "execution_count": 7,
   "id": "a5f2744a",
   "metadata": {},
   "outputs": [
    {
     "data": {
      "text/html": [
       "<div>\n",
       "<style scoped>\n",
       "    .dataframe tbody tr th:only-of-type {\n",
       "        vertical-align: middle;\n",
       "    }\n",
       "\n",
       "    .dataframe tbody tr th {\n",
       "        vertical-align: top;\n",
       "    }\n",
       "\n",
       "    .dataframe thead th {\n",
       "        text-align: right;\n",
       "    }\n",
       "</style>\n",
       "<table border=\"1\" class=\"dataframe\">\n",
       "  <thead>\n",
       "    <tr style=\"text-align: right;\">\n",
       "      <th></th>\n",
       "      <th>Density</th>\n",
       "      <th>BodyFat</th>\n",
       "      <th>Age</th>\n",
       "      <th>Weight</th>\n",
       "      <th>Height</th>\n",
       "      <th>Neck</th>\n",
       "      <th>Chest</th>\n",
       "      <th>Abdomen</th>\n",
       "      <th>Hip</th>\n",
       "      <th>Thigh</th>\n",
       "      <th>Knee</th>\n",
       "      <th>Ankle</th>\n",
       "      <th>Biceps</th>\n",
       "      <th>Forearm</th>\n",
       "      <th>Wrist</th>\n",
       "    </tr>\n",
       "  </thead>\n",
       "  <tbody>\n",
       "    <tr>\n",
       "      <th>0</th>\n",
       "      <td>1.0708</td>\n",
       "      <td>12.3</td>\n",
       "      <td>23</td>\n",
       "      <td>154.25</td>\n",
       "      <td>67.75</td>\n",
       "      <td>36.2</td>\n",
       "      <td>93.1</td>\n",
       "      <td>85.2</td>\n",
       "      <td>94.5</td>\n",
       "      <td>59.0</td>\n",
       "      <td>37.3</td>\n",
       "      <td>21.9</td>\n",
       "      <td>32.0</td>\n",
       "      <td>27.4</td>\n",
       "      <td>17.1</td>\n",
       "    </tr>\n",
       "    <tr>\n",
       "      <th>1</th>\n",
       "      <td>1.0853</td>\n",
       "      <td>6.1</td>\n",
       "      <td>22</td>\n",
       "      <td>173.25</td>\n",
       "      <td>72.25</td>\n",
       "      <td>38.5</td>\n",
       "      <td>93.6</td>\n",
       "      <td>83.0</td>\n",
       "      <td>98.7</td>\n",
       "      <td>58.7</td>\n",
       "      <td>37.3</td>\n",
       "      <td>23.4</td>\n",
       "      <td>30.5</td>\n",
       "      <td>28.9</td>\n",
       "      <td>18.2</td>\n",
       "    </tr>\n",
       "    <tr>\n",
       "      <th>2</th>\n",
       "      <td>1.0414</td>\n",
       "      <td>25.3</td>\n",
       "      <td>22</td>\n",
       "      <td>154.00</td>\n",
       "      <td>66.25</td>\n",
       "      <td>34.0</td>\n",
       "      <td>95.8</td>\n",
       "      <td>87.9</td>\n",
       "      <td>99.2</td>\n",
       "      <td>59.6</td>\n",
       "      <td>38.9</td>\n",
       "      <td>24.0</td>\n",
       "      <td>28.8</td>\n",
       "      <td>25.2</td>\n",
       "      <td>16.6</td>\n",
       "    </tr>\n",
       "    <tr>\n",
       "      <th>3</th>\n",
       "      <td>1.0751</td>\n",
       "      <td>10.4</td>\n",
       "      <td>26</td>\n",
       "      <td>184.75</td>\n",
       "      <td>72.25</td>\n",
       "      <td>37.4</td>\n",
       "      <td>101.8</td>\n",
       "      <td>86.4</td>\n",
       "      <td>101.2</td>\n",
       "      <td>60.1</td>\n",
       "      <td>37.3</td>\n",
       "      <td>22.8</td>\n",
       "      <td>32.4</td>\n",
       "      <td>29.4</td>\n",
       "      <td>18.2</td>\n",
       "    </tr>\n",
       "    <tr>\n",
       "      <th>4</th>\n",
       "      <td>1.0340</td>\n",
       "      <td>28.7</td>\n",
       "      <td>24</td>\n",
       "      <td>184.25</td>\n",
       "      <td>71.25</td>\n",
       "      <td>34.4</td>\n",
       "      <td>97.3</td>\n",
       "      <td>100.0</td>\n",
       "      <td>101.9</td>\n",
       "      <td>63.2</td>\n",
       "      <td>42.2</td>\n",
       "      <td>24.0</td>\n",
       "      <td>32.2</td>\n",
       "      <td>27.7</td>\n",
       "      <td>17.7</td>\n",
       "    </tr>\n",
       "    <tr>\n",
       "      <th>...</th>\n",
       "      <td>...</td>\n",
       "      <td>...</td>\n",
       "      <td>...</td>\n",
       "      <td>...</td>\n",
       "      <td>...</td>\n",
       "      <td>...</td>\n",
       "      <td>...</td>\n",
       "      <td>...</td>\n",
       "      <td>...</td>\n",
       "      <td>...</td>\n",
       "      <td>...</td>\n",
       "      <td>...</td>\n",
       "      <td>...</td>\n",
       "      <td>...</td>\n",
       "      <td>...</td>\n",
       "    </tr>\n",
       "    <tr>\n",
       "      <th>247</th>\n",
       "      <td>1.0736</td>\n",
       "      <td>11.0</td>\n",
       "      <td>70</td>\n",
       "      <td>134.25</td>\n",
       "      <td>67.00</td>\n",
       "      <td>34.9</td>\n",
       "      <td>89.2</td>\n",
       "      <td>83.6</td>\n",
       "      <td>88.8</td>\n",
       "      <td>49.6</td>\n",
       "      <td>34.8</td>\n",
       "      <td>21.5</td>\n",
       "      <td>25.6</td>\n",
       "      <td>25.7</td>\n",
       "      <td>18.5</td>\n",
       "    </tr>\n",
       "    <tr>\n",
       "      <th>248</th>\n",
       "      <td>1.0236</td>\n",
       "      <td>33.6</td>\n",
       "      <td>72</td>\n",
       "      <td>201.00</td>\n",
       "      <td>69.75</td>\n",
       "      <td>40.9</td>\n",
       "      <td>108.5</td>\n",
       "      <td>105.0</td>\n",
       "      <td>104.5</td>\n",
       "      <td>59.6</td>\n",
       "      <td>40.8</td>\n",
       "      <td>23.2</td>\n",
       "      <td>35.2</td>\n",
       "      <td>28.6</td>\n",
       "      <td>20.1</td>\n",
       "    </tr>\n",
       "    <tr>\n",
       "      <th>249</th>\n",
       "      <td>1.0328</td>\n",
       "      <td>29.3</td>\n",
       "      <td>72</td>\n",
       "      <td>186.75</td>\n",
       "      <td>66.00</td>\n",
       "      <td>38.9</td>\n",
       "      <td>111.1</td>\n",
       "      <td>111.5</td>\n",
       "      <td>101.7</td>\n",
       "      <td>60.3</td>\n",
       "      <td>37.3</td>\n",
       "      <td>21.5</td>\n",
       "      <td>31.3</td>\n",
       "      <td>27.2</td>\n",
       "      <td>18.0</td>\n",
       "    </tr>\n",
       "    <tr>\n",
       "      <th>250</th>\n",
       "      <td>1.0399</td>\n",
       "      <td>26.0</td>\n",
       "      <td>72</td>\n",
       "      <td>190.75</td>\n",
       "      <td>70.50</td>\n",
       "      <td>38.9</td>\n",
       "      <td>108.3</td>\n",
       "      <td>101.3</td>\n",
       "      <td>97.8</td>\n",
       "      <td>56.0</td>\n",
       "      <td>41.6</td>\n",
       "      <td>22.7</td>\n",
       "      <td>30.5</td>\n",
       "      <td>29.4</td>\n",
       "      <td>19.8</td>\n",
       "    </tr>\n",
       "    <tr>\n",
       "      <th>251</th>\n",
       "      <td>1.0271</td>\n",
       "      <td>31.9</td>\n",
       "      <td>74</td>\n",
       "      <td>207.50</td>\n",
       "      <td>70.00</td>\n",
       "      <td>40.8</td>\n",
       "      <td>112.4</td>\n",
       "      <td>108.5</td>\n",
       "      <td>107.1</td>\n",
       "      <td>59.3</td>\n",
       "      <td>42.2</td>\n",
       "      <td>24.6</td>\n",
       "      <td>33.7</td>\n",
       "      <td>30.0</td>\n",
       "      <td>20.9</td>\n",
       "    </tr>\n",
       "  </tbody>\n",
       "</table>\n",
       "<p>252 rows × 15 columns</p>\n",
       "</div>"
      ],
      "text/plain": [
       "     Density  BodyFat  Age  Weight  Height  Neck  Chest  Abdomen    Hip  \\\n",
       "0     1.0708     12.3   23  154.25   67.75  36.2   93.1     85.2   94.5   \n",
       "1     1.0853      6.1   22  173.25   72.25  38.5   93.6     83.0   98.7   \n",
       "2     1.0414     25.3   22  154.00   66.25  34.0   95.8     87.9   99.2   \n",
       "3     1.0751     10.4   26  184.75   72.25  37.4  101.8     86.4  101.2   \n",
       "4     1.0340     28.7   24  184.25   71.25  34.4   97.3    100.0  101.9   \n",
       "..       ...      ...  ...     ...     ...   ...    ...      ...    ...   \n",
       "247   1.0736     11.0   70  134.25   67.00  34.9   89.2     83.6   88.8   \n",
       "248   1.0236     33.6   72  201.00   69.75  40.9  108.5    105.0  104.5   \n",
       "249   1.0328     29.3   72  186.75   66.00  38.9  111.1    111.5  101.7   \n",
       "250   1.0399     26.0   72  190.75   70.50  38.9  108.3    101.3   97.8   \n",
       "251   1.0271     31.9   74  207.50   70.00  40.8  112.4    108.5  107.1   \n",
       "\n",
       "     Thigh  Knee  Ankle  Biceps  Forearm  Wrist  \n",
       "0     59.0  37.3   21.9    32.0     27.4   17.1  \n",
       "1     58.7  37.3   23.4    30.5     28.9   18.2  \n",
       "2     59.6  38.9   24.0    28.8     25.2   16.6  \n",
       "3     60.1  37.3   22.8    32.4     29.4   18.2  \n",
       "4     63.2  42.2   24.0    32.2     27.7   17.7  \n",
       "..     ...   ...    ...     ...      ...    ...  \n",
       "247   49.6  34.8   21.5    25.6     25.7   18.5  \n",
       "248   59.6  40.8   23.2    35.2     28.6   20.1  \n",
       "249   60.3  37.3   21.5    31.3     27.2   18.0  \n",
       "250   56.0  41.6   22.7    30.5     29.4   19.8  \n",
       "251   59.3  42.2   24.6    33.7     30.0   20.9  \n",
       "\n",
       "[252 rows x 15 columns]"
      ]
     },
     "execution_count": 7,
     "metadata": {},
     "output_type": "execute_result"
    }
   ],
   "source": [
    "dataset"
   ]
  },
  {
   "cell_type": "markdown",
   "id": "21810c66",
   "metadata": {},
   "source": [
    "# dataset shape"
   ]
  },
  {
   "cell_type": "code",
   "execution_count": 8,
   "id": "c52cf6cd",
   "metadata": {},
   "outputs": [
    {
     "data": {
      "text/plain": [
       "(252, 15)"
      ]
     },
     "execution_count": 8,
     "metadata": {},
     "output_type": "execute_result"
    }
   ],
   "source": [
    "dataset.shape"
   ]
  },
  {
   "cell_type": "markdown",
   "id": "1991b8da",
   "metadata": {},
   "source": [
    "# dataset head"
   ]
  },
  {
   "cell_type": "code",
   "execution_count": 9,
   "id": "b142effb",
   "metadata": {},
   "outputs": [
    {
     "data": {
      "text/html": [
       "<div>\n",
       "<style scoped>\n",
       "    .dataframe tbody tr th:only-of-type {\n",
       "        vertical-align: middle;\n",
       "    }\n",
       "\n",
       "    .dataframe tbody tr th {\n",
       "        vertical-align: top;\n",
       "    }\n",
       "\n",
       "    .dataframe thead th {\n",
       "        text-align: right;\n",
       "    }\n",
       "</style>\n",
       "<table border=\"1\" class=\"dataframe\">\n",
       "  <thead>\n",
       "    <tr style=\"text-align: right;\">\n",
       "      <th></th>\n",
       "      <th>Density</th>\n",
       "      <th>BodyFat</th>\n",
       "      <th>Age</th>\n",
       "      <th>Weight</th>\n",
       "      <th>Height</th>\n",
       "      <th>Neck</th>\n",
       "      <th>Chest</th>\n",
       "      <th>Abdomen</th>\n",
       "      <th>Hip</th>\n",
       "      <th>Thigh</th>\n",
       "      <th>Knee</th>\n",
       "      <th>Ankle</th>\n",
       "      <th>Biceps</th>\n",
       "      <th>Forearm</th>\n",
       "      <th>Wrist</th>\n",
       "    </tr>\n",
       "  </thead>\n",
       "  <tbody>\n",
       "    <tr>\n",
       "      <th>0</th>\n",
       "      <td>1.0708</td>\n",
       "      <td>12.3</td>\n",
       "      <td>23</td>\n",
       "      <td>154.25</td>\n",
       "      <td>67.75</td>\n",
       "      <td>36.2</td>\n",
       "      <td>93.1</td>\n",
       "      <td>85.2</td>\n",
       "      <td>94.5</td>\n",
       "      <td>59.0</td>\n",
       "      <td>37.3</td>\n",
       "      <td>21.9</td>\n",
       "      <td>32.0</td>\n",
       "      <td>27.4</td>\n",
       "      <td>17.1</td>\n",
       "    </tr>\n",
       "    <tr>\n",
       "      <th>1</th>\n",
       "      <td>1.0853</td>\n",
       "      <td>6.1</td>\n",
       "      <td>22</td>\n",
       "      <td>173.25</td>\n",
       "      <td>72.25</td>\n",
       "      <td>38.5</td>\n",
       "      <td>93.6</td>\n",
       "      <td>83.0</td>\n",
       "      <td>98.7</td>\n",
       "      <td>58.7</td>\n",
       "      <td>37.3</td>\n",
       "      <td>23.4</td>\n",
       "      <td>30.5</td>\n",
       "      <td>28.9</td>\n",
       "      <td>18.2</td>\n",
       "    </tr>\n",
       "    <tr>\n",
       "      <th>2</th>\n",
       "      <td>1.0414</td>\n",
       "      <td>25.3</td>\n",
       "      <td>22</td>\n",
       "      <td>154.00</td>\n",
       "      <td>66.25</td>\n",
       "      <td>34.0</td>\n",
       "      <td>95.8</td>\n",
       "      <td>87.9</td>\n",
       "      <td>99.2</td>\n",
       "      <td>59.6</td>\n",
       "      <td>38.9</td>\n",
       "      <td>24.0</td>\n",
       "      <td>28.8</td>\n",
       "      <td>25.2</td>\n",
       "      <td>16.6</td>\n",
       "    </tr>\n",
       "    <tr>\n",
       "      <th>3</th>\n",
       "      <td>1.0751</td>\n",
       "      <td>10.4</td>\n",
       "      <td>26</td>\n",
       "      <td>184.75</td>\n",
       "      <td>72.25</td>\n",
       "      <td>37.4</td>\n",
       "      <td>101.8</td>\n",
       "      <td>86.4</td>\n",
       "      <td>101.2</td>\n",
       "      <td>60.1</td>\n",
       "      <td>37.3</td>\n",
       "      <td>22.8</td>\n",
       "      <td>32.4</td>\n",
       "      <td>29.4</td>\n",
       "      <td>18.2</td>\n",
       "    </tr>\n",
       "    <tr>\n",
       "      <th>4</th>\n",
       "      <td>1.0340</td>\n",
       "      <td>28.7</td>\n",
       "      <td>24</td>\n",
       "      <td>184.25</td>\n",
       "      <td>71.25</td>\n",
       "      <td>34.4</td>\n",
       "      <td>97.3</td>\n",
       "      <td>100.0</td>\n",
       "      <td>101.9</td>\n",
       "      <td>63.2</td>\n",
       "      <td>42.2</td>\n",
       "      <td>24.0</td>\n",
       "      <td>32.2</td>\n",
       "      <td>27.7</td>\n",
       "      <td>17.7</td>\n",
       "    </tr>\n",
       "  </tbody>\n",
       "</table>\n",
       "</div>"
      ],
      "text/plain": [
       "   Density  BodyFat  Age  Weight  Height  Neck  Chest  Abdomen    Hip  Thigh  \\\n",
       "0   1.0708     12.3   23  154.25   67.75  36.2   93.1     85.2   94.5   59.0   \n",
       "1   1.0853      6.1   22  173.25   72.25  38.5   93.6     83.0   98.7   58.7   \n",
       "2   1.0414     25.3   22  154.00   66.25  34.0   95.8     87.9   99.2   59.6   \n",
       "3   1.0751     10.4   26  184.75   72.25  37.4  101.8     86.4  101.2   60.1   \n",
       "4   1.0340     28.7   24  184.25   71.25  34.4   97.3    100.0  101.9   63.2   \n",
       "\n",
       "   Knee  Ankle  Biceps  Forearm  Wrist  \n",
       "0  37.3   21.9    32.0     27.4   17.1  \n",
       "1  37.3   23.4    30.5     28.9   18.2  \n",
       "2  38.9   24.0    28.8     25.2   16.6  \n",
       "3  37.3   22.8    32.4     29.4   18.2  \n",
       "4  42.2   24.0    32.2     27.7   17.7  "
      ]
     },
     "execution_count": 9,
     "metadata": {},
     "output_type": "execute_result"
    }
   ],
   "source": [
    "dataset.head()"
   ]
  },
  {
   "cell_type": "markdown",
   "id": "a8993837",
   "metadata": {},
   "source": [
    "# dataset tail"
   ]
  },
  {
   "cell_type": "code",
   "execution_count": 10,
   "id": "df61ba83",
   "metadata": {},
   "outputs": [
    {
     "data": {
      "text/html": [
       "<div>\n",
       "<style scoped>\n",
       "    .dataframe tbody tr th:only-of-type {\n",
       "        vertical-align: middle;\n",
       "    }\n",
       "\n",
       "    .dataframe tbody tr th {\n",
       "        vertical-align: top;\n",
       "    }\n",
       "\n",
       "    .dataframe thead th {\n",
       "        text-align: right;\n",
       "    }\n",
       "</style>\n",
       "<table border=\"1\" class=\"dataframe\">\n",
       "  <thead>\n",
       "    <tr style=\"text-align: right;\">\n",
       "      <th></th>\n",
       "      <th>Density</th>\n",
       "      <th>BodyFat</th>\n",
       "      <th>Age</th>\n",
       "      <th>Weight</th>\n",
       "      <th>Height</th>\n",
       "      <th>Neck</th>\n",
       "      <th>Chest</th>\n",
       "      <th>Abdomen</th>\n",
       "      <th>Hip</th>\n",
       "      <th>Thigh</th>\n",
       "      <th>Knee</th>\n",
       "      <th>Ankle</th>\n",
       "      <th>Biceps</th>\n",
       "      <th>Forearm</th>\n",
       "      <th>Wrist</th>\n",
       "    </tr>\n",
       "  </thead>\n",
       "  <tbody>\n",
       "    <tr>\n",
       "      <th>247</th>\n",
       "      <td>1.0736</td>\n",
       "      <td>11.0</td>\n",
       "      <td>70</td>\n",
       "      <td>134.25</td>\n",
       "      <td>67.00</td>\n",
       "      <td>34.9</td>\n",
       "      <td>89.2</td>\n",
       "      <td>83.6</td>\n",
       "      <td>88.8</td>\n",
       "      <td>49.6</td>\n",
       "      <td>34.8</td>\n",
       "      <td>21.5</td>\n",
       "      <td>25.6</td>\n",
       "      <td>25.7</td>\n",
       "      <td>18.5</td>\n",
       "    </tr>\n",
       "    <tr>\n",
       "      <th>248</th>\n",
       "      <td>1.0236</td>\n",
       "      <td>33.6</td>\n",
       "      <td>72</td>\n",
       "      <td>201.00</td>\n",
       "      <td>69.75</td>\n",
       "      <td>40.9</td>\n",
       "      <td>108.5</td>\n",
       "      <td>105.0</td>\n",
       "      <td>104.5</td>\n",
       "      <td>59.6</td>\n",
       "      <td>40.8</td>\n",
       "      <td>23.2</td>\n",
       "      <td>35.2</td>\n",
       "      <td>28.6</td>\n",
       "      <td>20.1</td>\n",
       "    </tr>\n",
       "    <tr>\n",
       "      <th>249</th>\n",
       "      <td>1.0328</td>\n",
       "      <td>29.3</td>\n",
       "      <td>72</td>\n",
       "      <td>186.75</td>\n",
       "      <td>66.00</td>\n",
       "      <td>38.9</td>\n",
       "      <td>111.1</td>\n",
       "      <td>111.5</td>\n",
       "      <td>101.7</td>\n",
       "      <td>60.3</td>\n",
       "      <td>37.3</td>\n",
       "      <td>21.5</td>\n",
       "      <td>31.3</td>\n",
       "      <td>27.2</td>\n",
       "      <td>18.0</td>\n",
       "    </tr>\n",
       "    <tr>\n",
       "      <th>250</th>\n",
       "      <td>1.0399</td>\n",
       "      <td>26.0</td>\n",
       "      <td>72</td>\n",
       "      <td>190.75</td>\n",
       "      <td>70.50</td>\n",
       "      <td>38.9</td>\n",
       "      <td>108.3</td>\n",
       "      <td>101.3</td>\n",
       "      <td>97.8</td>\n",
       "      <td>56.0</td>\n",
       "      <td>41.6</td>\n",
       "      <td>22.7</td>\n",
       "      <td>30.5</td>\n",
       "      <td>29.4</td>\n",
       "      <td>19.8</td>\n",
       "    </tr>\n",
       "    <tr>\n",
       "      <th>251</th>\n",
       "      <td>1.0271</td>\n",
       "      <td>31.9</td>\n",
       "      <td>74</td>\n",
       "      <td>207.50</td>\n",
       "      <td>70.00</td>\n",
       "      <td>40.8</td>\n",
       "      <td>112.4</td>\n",
       "      <td>108.5</td>\n",
       "      <td>107.1</td>\n",
       "      <td>59.3</td>\n",
       "      <td>42.2</td>\n",
       "      <td>24.6</td>\n",
       "      <td>33.7</td>\n",
       "      <td>30.0</td>\n",
       "      <td>20.9</td>\n",
       "    </tr>\n",
       "  </tbody>\n",
       "</table>\n",
       "</div>"
      ],
      "text/plain": [
       "     Density  BodyFat  Age  Weight  Height  Neck  Chest  Abdomen    Hip  \\\n",
       "247   1.0736     11.0   70  134.25   67.00  34.9   89.2     83.6   88.8   \n",
       "248   1.0236     33.6   72  201.00   69.75  40.9  108.5    105.0  104.5   \n",
       "249   1.0328     29.3   72  186.75   66.00  38.9  111.1    111.5  101.7   \n",
       "250   1.0399     26.0   72  190.75   70.50  38.9  108.3    101.3   97.8   \n",
       "251   1.0271     31.9   74  207.50   70.00  40.8  112.4    108.5  107.1   \n",
       "\n",
       "     Thigh  Knee  Ankle  Biceps  Forearm  Wrist  \n",
       "247   49.6  34.8   21.5    25.6     25.7   18.5  \n",
       "248   59.6  40.8   23.2    35.2     28.6   20.1  \n",
       "249   60.3  37.3   21.5    31.3     27.2   18.0  \n",
       "250   56.0  41.6   22.7    30.5     29.4   19.8  \n",
       "251   59.3  42.2   24.6    33.7     30.0   20.9  "
      ]
     },
     "execution_count": 10,
     "metadata": {},
     "output_type": "execute_result"
    }
   ],
   "source": [
    "dataset.tail()"
   ]
  },
  {
   "cell_type": "markdown",
   "id": "cece1ed9",
   "metadata": {},
   "source": [
    "# slicing dataset"
   ]
  },
  {
   "cell_type": "code",
   "execution_count": 12,
   "id": "b30e6d69",
   "metadata": {},
   "outputs": [],
   "source": [
    "data=dataset.drop(['Density'],axis=1)"
   ]
  },
  {
   "cell_type": "code",
   "execution_count": 13,
   "id": "28966ec7",
   "metadata": {},
   "outputs": [
    {
     "data": {
      "text/html": [
       "<div>\n",
       "<style scoped>\n",
       "    .dataframe tbody tr th:only-of-type {\n",
       "        vertical-align: middle;\n",
       "    }\n",
       "\n",
       "    .dataframe tbody tr th {\n",
       "        vertical-align: top;\n",
       "    }\n",
       "\n",
       "    .dataframe thead th {\n",
       "        text-align: right;\n",
       "    }\n",
       "</style>\n",
       "<table border=\"1\" class=\"dataframe\">\n",
       "  <thead>\n",
       "    <tr style=\"text-align: right;\">\n",
       "      <th></th>\n",
       "      <th>BodyFat</th>\n",
       "      <th>Age</th>\n",
       "      <th>Weight</th>\n",
       "      <th>Height</th>\n",
       "      <th>Neck</th>\n",
       "      <th>Chest</th>\n",
       "      <th>Abdomen</th>\n",
       "      <th>Hip</th>\n",
       "      <th>Thigh</th>\n",
       "      <th>Knee</th>\n",
       "      <th>Ankle</th>\n",
       "      <th>Biceps</th>\n",
       "      <th>Forearm</th>\n",
       "      <th>Wrist</th>\n",
       "    </tr>\n",
       "  </thead>\n",
       "  <tbody>\n",
       "    <tr>\n",
       "      <th>0</th>\n",
       "      <td>12.3</td>\n",
       "      <td>23</td>\n",
       "      <td>154.25</td>\n",
       "      <td>67.75</td>\n",
       "      <td>36.2</td>\n",
       "      <td>93.1</td>\n",
       "      <td>85.2</td>\n",
       "      <td>94.5</td>\n",
       "      <td>59.0</td>\n",
       "      <td>37.3</td>\n",
       "      <td>21.9</td>\n",
       "      <td>32.0</td>\n",
       "      <td>27.4</td>\n",
       "      <td>17.1</td>\n",
       "    </tr>\n",
       "    <tr>\n",
       "      <th>1</th>\n",
       "      <td>6.1</td>\n",
       "      <td>22</td>\n",
       "      <td>173.25</td>\n",
       "      <td>72.25</td>\n",
       "      <td>38.5</td>\n",
       "      <td>93.6</td>\n",
       "      <td>83.0</td>\n",
       "      <td>98.7</td>\n",
       "      <td>58.7</td>\n",
       "      <td>37.3</td>\n",
       "      <td>23.4</td>\n",
       "      <td>30.5</td>\n",
       "      <td>28.9</td>\n",
       "      <td>18.2</td>\n",
       "    </tr>\n",
       "    <tr>\n",
       "      <th>2</th>\n",
       "      <td>25.3</td>\n",
       "      <td>22</td>\n",
       "      <td>154.00</td>\n",
       "      <td>66.25</td>\n",
       "      <td>34.0</td>\n",
       "      <td>95.8</td>\n",
       "      <td>87.9</td>\n",
       "      <td>99.2</td>\n",
       "      <td>59.6</td>\n",
       "      <td>38.9</td>\n",
       "      <td>24.0</td>\n",
       "      <td>28.8</td>\n",
       "      <td>25.2</td>\n",
       "      <td>16.6</td>\n",
       "    </tr>\n",
       "    <tr>\n",
       "      <th>3</th>\n",
       "      <td>10.4</td>\n",
       "      <td>26</td>\n",
       "      <td>184.75</td>\n",
       "      <td>72.25</td>\n",
       "      <td>37.4</td>\n",
       "      <td>101.8</td>\n",
       "      <td>86.4</td>\n",
       "      <td>101.2</td>\n",
       "      <td>60.1</td>\n",
       "      <td>37.3</td>\n",
       "      <td>22.8</td>\n",
       "      <td>32.4</td>\n",
       "      <td>29.4</td>\n",
       "      <td>18.2</td>\n",
       "    </tr>\n",
       "    <tr>\n",
       "      <th>4</th>\n",
       "      <td>28.7</td>\n",
       "      <td>24</td>\n",
       "      <td>184.25</td>\n",
       "      <td>71.25</td>\n",
       "      <td>34.4</td>\n",
       "      <td>97.3</td>\n",
       "      <td>100.0</td>\n",
       "      <td>101.9</td>\n",
       "      <td>63.2</td>\n",
       "      <td>42.2</td>\n",
       "      <td>24.0</td>\n",
       "      <td>32.2</td>\n",
       "      <td>27.7</td>\n",
       "      <td>17.7</td>\n",
       "    </tr>\n",
       "    <tr>\n",
       "      <th>...</th>\n",
       "      <td>...</td>\n",
       "      <td>...</td>\n",
       "      <td>...</td>\n",
       "      <td>...</td>\n",
       "      <td>...</td>\n",
       "      <td>...</td>\n",
       "      <td>...</td>\n",
       "      <td>...</td>\n",
       "      <td>...</td>\n",
       "      <td>...</td>\n",
       "      <td>...</td>\n",
       "      <td>...</td>\n",
       "      <td>...</td>\n",
       "      <td>...</td>\n",
       "    </tr>\n",
       "    <tr>\n",
       "      <th>247</th>\n",
       "      <td>11.0</td>\n",
       "      <td>70</td>\n",
       "      <td>134.25</td>\n",
       "      <td>67.00</td>\n",
       "      <td>34.9</td>\n",
       "      <td>89.2</td>\n",
       "      <td>83.6</td>\n",
       "      <td>88.8</td>\n",
       "      <td>49.6</td>\n",
       "      <td>34.8</td>\n",
       "      <td>21.5</td>\n",
       "      <td>25.6</td>\n",
       "      <td>25.7</td>\n",
       "      <td>18.5</td>\n",
       "    </tr>\n",
       "    <tr>\n",
       "      <th>248</th>\n",
       "      <td>33.6</td>\n",
       "      <td>72</td>\n",
       "      <td>201.00</td>\n",
       "      <td>69.75</td>\n",
       "      <td>40.9</td>\n",
       "      <td>108.5</td>\n",
       "      <td>105.0</td>\n",
       "      <td>104.5</td>\n",
       "      <td>59.6</td>\n",
       "      <td>40.8</td>\n",
       "      <td>23.2</td>\n",
       "      <td>35.2</td>\n",
       "      <td>28.6</td>\n",
       "      <td>20.1</td>\n",
       "    </tr>\n",
       "    <tr>\n",
       "      <th>249</th>\n",
       "      <td>29.3</td>\n",
       "      <td>72</td>\n",
       "      <td>186.75</td>\n",
       "      <td>66.00</td>\n",
       "      <td>38.9</td>\n",
       "      <td>111.1</td>\n",
       "      <td>111.5</td>\n",
       "      <td>101.7</td>\n",
       "      <td>60.3</td>\n",
       "      <td>37.3</td>\n",
       "      <td>21.5</td>\n",
       "      <td>31.3</td>\n",
       "      <td>27.2</td>\n",
       "      <td>18.0</td>\n",
       "    </tr>\n",
       "    <tr>\n",
       "      <th>250</th>\n",
       "      <td>26.0</td>\n",
       "      <td>72</td>\n",
       "      <td>190.75</td>\n",
       "      <td>70.50</td>\n",
       "      <td>38.9</td>\n",
       "      <td>108.3</td>\n",
       "      <td>101.3</td>\n",
       "      <td>97.8</td>\n",
       "      <td>56.0</td>\n",
       "      <td>41.6</td>\n",
       "      <td>22.7</td>\n",
       "      <td>30.5</td>\n",
       "      <td>29.4</td>\n",
       "      <td>19.8</td>\n",
       "    </tr>\n",
       "    <tr>\n",
       "      <th>251</th>\n",
       "      <td>31.9</td>\n",
       "      <td>74</td>\n",
       "      <td>207.50</td>\n",
       "      <td>70.00</td>\n",
       "      <td>40.8</td>\n",
       "      <td>112.4</td>\n",
       "      <td>108.5</td>\n",
       "      <td>107.1</td>\n",
       "      <td>59.3</td>\n",
       "      <td>42.2</td>\n",
       "      <td>24.6</td>\n",
       "      <td>33.7</td>\n",
       "      <td>30.0</td>\n",
       "      <td>20.9</td>\n",
       "    </tr>\n",
       "  </tbody>\n",
       "</table>\n",
       "<p>252 rows × 14 columns</p>\n",
       "</div>"
      ],
      "text/plain": [
       "     BodyFat  Age  Weight  Height  Neck  Chest  Abdomen    Hip  Thigh  Knee  \\\n",
       "0       12.3   23  154.25   67.75  36.2   93.1     85.2   94.5   59.0  37.3   \n",
       "1        6.1   22  173.25   72.25  38.5   93.6     83.0   98.7   58.7  37.3   \n",
       "2       25.3   22  154.00   66.25  34.0   95.8     87.9   99.2   59.6  38.9   \n",
       "3       10.4   26  184.75   72.25  37.4  101.8     86.4  101.2   60.1  37.3   \n",
       "4       28.7   24  184.25   71.25  34.4   97.3    100.0  101.9   63.2  42.2   \n",
       "..       ...  ...     ...     ...   ...    ...      ...    ...    ...   ...   \n",
       "247     11.0   70  134.25   67.00  34.9   89.2     83.6   88.8   49.6  34.8   \n",
       "248     33.6   72  201.00   69.75  40.9  108.5    105.0  104.5   59.6  40.8   \n",
       "249     29.3   72  186.75   66.00  38.9  111.1    111.5  101.7   60.3  37.3   \n",
       "250     26.0   72  190.75   70.50  38.9  108.3    101.3   97.8   56.0  41.6   \n",
       "251     31.9   74  207.50   70.00  40.8  112.4    108.5  107.1   59.3  42.2   \n",
       "\n",
       "     Ankle  Biceps  Forearm  Wrist  \n",
       "0     21.9    32.0     27.4   17.1  \n",
       "1     23.4    30.5     28.9   18.2  \n",
       "2     24.0    28.8     25.2   16.6  \n",
       "3     22.8    32.4     29.4   18.2  \n",
       "4     24.0    32.2     27.7   17.7  \n",
       "..     ...     ...      ...    ...  \n",
       "247   21.5    25.6     25.7   18.5  \n",
       "248   23.2    35.2     28.6   20.1  \n",
       "249   21.5    31.3     27.2   18.0  \n",
       "250   22.7    30.5     29.4   19.8  \n",
       "251   24.6    33.7     30.0   20.9  \n",
       "\n",
       "[252 rows x 14 columns]"
      ]
     },
     "execution_count": 13,
     "metadata": {},
     "output_type": "execute_result"
    }
   ],
   "source": [
    "data"
   ]
  },
  {
   "cell_type": "markdown",
   "id": "3b5a96ce",
   "metadata": {},
   "source": [
    "# reshape dataset into dataframe"
   ]
  },
  {
   "cell_type": "code",
   "execution_count": 14,
   "id": "3e05876b",
   "metadata": {},
   "outputs": [],
   "source": [
    "x=data.iloc[:,-1].values.reshape(-1,1)"
   ]
  },
  {
   "cell_type": "code",
   "execution_count": 15,
   "id": "dff4757d",
   "metadata": {},
   "outputs": [],
   "source": [
    "y=data.iloc[:,0].values.reshape(-1,1)"
   ]
  },
  {
   "cell_type": "code",
   "execution_count": 16,
   "id": "2d536198",
   "metadata": {},
   "outputs": [
    {
     "data": {
      "text/plain": [
       "array([[17.1],\n",
       "       [18.2],\n",
       "       [16.6],\n",
       "       [18.2],\n",
       "       [17.7],\n",
       "       [18.8],\n",
       "       [17.7],\n",
       "       [18.8],\n",
       "       [18.2],\n",
       "       [19.2],\n",
       "       [18.5],\n",
       "       [19. ],\n",
       "       [17.7],\n",
       "       [18.8],\n",
       "       [18.2],\n",
       "       [16.9],\n",
       "       [17.3],\n",
       "       [19.3],\n",
       "       [18.5],\n",
       "       [18.2],\n",
       "       [18.4],\n",
       "       [19.9],\n",
       "       [16.7],\n",
       "       [17.1],\n",
       "       [17.6],\n",
       "       [17.7],\n",
       "       [16.5],\n",
       "       [17. ],\n",
       "       [17.2],\n",
       "       [17.6],\n",
       "       [18.4],\n",
       "       [17.9],\n",
       "       [18.8],\n",
       "       [18.7],\n",
       "       [19.7],\n",
       "       [17. ],\n",
       "       [19. ],\n",
       "       [19.4],\n",
       "       [21.4],\n",
       "       [18.3],\n",
       "       [21.4],\n",
       "       [17.4],\n",
       "       [18.4],\n",
       "       [18.8],\n",
       "       [16.1],\n",
       "       [18.3],\n",
       "       [17.3],\n",
       "       [17.9],\n",
       "       [16.3],\n",
       "       [16.8],\n",
       "       [17.3],\n",
       "       [17.2],\n",
       "       [16.9],\n",
       "       [18.5],\n",
       "       [18.5],\n",
       "       [18.9],\n",
       "       [18.5],\n",
       "       [19.2],\n",
       "       [18.2],\n",
       "       [18.5],\n",
       "       [20.2],\n",
       "       [18.3],\n",
       "       [19.1],\n",
       "       [18.8],\n",
       "       [18.4],\n",
       "       [18.7],\n",
       "       [17.4],\n",
       "       [18.7],\n",
       "       [18.1],\n",
       "       [17.3],\n",
       "       [18.6],\n",
       "       [18.3],\n",
       "       [18.2],\n",
       "       [16.9],\n",
       "       [16.8],\n",
       "       [18.3],\n",
       "       [18.1],\n",
       "       [18.8],\n",
       "       [18.3],\n",
       "       [19. ],\n",
       "       [19. ],\n",
       "       [17.7],\n",
       "       [19. ],\n",
       "       [19.2],\n",
       "       [18. ],\n",
       "       [18.2],\n",
       "       [18.8],\n",
       "       [18.1],\n",
       "       [18.8],\n",
       "       [18.7],\n",
       "       [17.7],\n",
       "       [18.8],\n",
       "       [18.4],\n",
       "       [19.1],\n",
       "       [17.8],\n",
       "       [20.4],\n",
       "       [18.5],\n",
       "       [18.2],\n",
       "       [18.2],\n",
       "       [18.3],\n",
       "       [18.6],\n",
       "       [17. ],\n",
       "       [18.4],\n",
       "       [19.7],\n",
       "       [17.7],\n",
       "       [18.8],\n",
       "       [18.1],\n",
       "       [19.1],\n",
       "       [19.2],\n",
       "       [17.3],\n",
       "       [18.1],\n",
       "       [17.4],\n",
       "       [19.8],\n",
       "       [17.4],\n",
       "       [17.5],\n",
       "       [17.3],\n",
       "       [18.1],\n",
       "       [19.5],\n",
       "       [18.5],\n",
       "       [18. ],\n",
       "       [19.5],\n",
       "       [18.4],\n",
       "       [17.6],\n",
       "       [17.6],\n",
       "       [18. ],\n",
       "       [17.6],\n",
       "       [17.2],\n",
       "       [17.4],\n",
       "       [18.1],\n",
       "       [17.7],\n",
       "       [17.6],\n",
       "       [17.1],\n",
       "       [17.9],\n",
       "       [17.3],\n",
       "       [18.1],\n",
       "       [17.6],\n",
       "       [17.1],\n",
       "       [17.7],\n",
       "       [17.6],\n",
       "       [18.7],\n",
       "       [16.6],\n",
       "       [17.8],\n",
       "       [17.9],\n",
       "       [18.2],\n",
       "       [18.3],\n",
       "       [17.3],\n",
       "       [18.7],\n",
       "       [18.4],\n",
       "       [16.9],\n",
       "       [18.4],\n",
       "       [17.8],\n",
       "       [19.6],\n",
       "       [17.4],\n",
       "       [17.9],\n",
       "       [19.4],\n",
       "       [17.7],\n",
       "       [19.1],\n",
       "       [18.6],\n",
       "       [16.9],\n",
       "       [18.2],\n",
       "       [16.5],\n",
       "       [19.1],\n",
       "       [19.7],\n",
       "       [16.5],\n",
       "       [18.5],\n",
       "       [19.4],\n",
       "       [17.7],\n",
       "       [19.8],\n",
       "       [18.8],\n",
       "       [17.4],\n",
       "       [17.7],\n",
       "       [16.9],\n",
       "       [17.7],\n",
       "       [17.8],\n",
       "       [20.1],\n",
       "       [16.9],\n",
       "       [16.7],\n",
       "       [18.4],\n",
       "       [18.1],\n",
       "       [19.9],\n",
       "       [19. ],\n",
       "       [16.5],\n",
       "       [17.2],\n",
       "       [17.4],\n",
       "       [17.7],\n",
       "       [18.2],\n",
       "       [20. ],\n",
       "       [19.1],\n",
       "       [18.8],\n",
       "       [18.5],\n",
       "       [17.9],\n",
       "       [19.9],\n",
       "       [18.7],\n",
       "       [18.5],\n",
       "       [17.1],\n",
       "       [18.8],\n",
       "       [17.4],\n",
       "       [16.9],\n",
       "       [18.5],\n",
       "       [18.8],\n",
       "       [18.6],\n",
       "       [17.4],\n",
       "       [18.7],\n",
       "       [18.4],\n",
       "       [17.4],\n",
       "       [19.4],\n",
       "       [17.3],\n",
       "       [18.4],\n",
       "       [17.7],\n",
       "       [17.6],\n",
       "       [17.4],\n",
       "       [18.9],\n",
       "       [18.6],\n",
       "       [19. ],\n",
       "       [18. ],\n",
       "       [18.4],\n",
       "       [17.8],\n",
       "       [18.6],\n",
       "       [19.2],\n",
       "       [17.1],\n",
       "       [18.9],\n",
       "       [19.6],\n",
       "       [17.8],\n",
       "       [17. ],\n",
       "       [19.2],\n",
       "       [15.8],\n",
       "       [18.8],\n",
       "       [18.4],\n",
       "       [18.8],\n",
       "       [19. ],\n",
       "       [16.9],\n",
       "       [19. ],\n",
       "       [18. ],\n",
       "       [17.6],\n",
       "       [18.3],\n",
       "       [18.3],\n",
       "       [19. ],\n",
       "       [18.5],\n",
       "       [18.3],\n",
       "       [19.1],\n",
       "       [16.5],\n",
       "       [19.4],\n",
       "       [19.5],\n",
       "       [19.5],\n",
       "       [18.5],\n",
       "       [18.5],\n",
       "       [18.8],\n",
       "       [18.5],\n",
       "       [20.1],\n",
       "       [18. ],\n",
       "       [19.8],\n",
       "       [20.9]])"
      ]
     },
     "execution_count": 16,
     "metadata": {},
     "output_type": "execute_result"
    }
   ],
   "source": [
    "x"
   ]
  },
  {
   "cell_type": "code",
   "execution_count": 17,
   "id": "025ee386",
   "metadata": {},
   "outputs": [
    {
     "data": {
      "text/plain": [
       "array([[12.3],\n",
       "       [ 6.1],\n",
       "       [25.3],\n",
       "       [10.4],\n",
       "       [28.7],\n",
       "       [20.9],\n",
       "       [19.2],\n",
       "       [12.4],\n",
       "       [ 4.1],\n",
       "       [11.7],\n",
       "       [ 7.1],\n",
       "       [ 7.8],\n",
       "       [20.8],\n",
       "       [21.2],\n",
       "       [22.1],\n",
       "       [20.9],\n",
       "       [29. ],\n",
       "       [22.9],\n",
       "       [16. ],\n",
       "       [16.5],\n",
       "       [19.1],\n",
       "       [15.2],\n",
       "       [15.6],\n",
       "       [17.7],\n",
       "       [14. ],\n",
       "       [ 3.7],\n",
       "       [ 7.9],\n",
       "       [22.9],\n",
       "       [ 3.7],\n",
       "       [ 8.8],\n",
       "       [11.9],\n",
       "       [ 5.7],\n",
       "       [11.8],\n",
       "       [21.3],\n",
       "       [32.3],\n",
       "       [40.1],\n",
       "       [24.2],\n",
       "       [28.4],\n",
       "       [35.2],\n",
       "       [32.6],\n",
       "       [34.5],\n",
       "       [32.9],\n",
       "       [31.6],\n",
       "       [32. ],\n",
       "       [ 7.7],\n",
       "       [13.9],\n",
       "       [10.8],\n",
       "       [ 5.6],\n",
       "       [13.6],\n",
       "       [ 4. ],\n",
       "       [10.2],\n",
       "       [ 6.6],\n",
       "       [ 8. ],\n",
       "       [ 6.3],\n",
       "       [ 3.9],\n",
       "       [22.6],\n",
       "       [20.4],\n",
       "       [28. ],\n",
       "       [31.5],\n",
       "       [24.6],\n",
       "       [26.1],\n",
       "       [29.8],\n",
       "       [30.7],\n",
       "       [25.8],\n",
       "       [32.3],\n",
       "       [30. ],\n",
       "       [21.5],\n",
       "       [13.8],\n",
       "       [ 6.3],\n",
       "       [12.9],\n",
       "       [24.3],\n",
       "       [ 8.8],\n",
       "       [ 8.5],\n",
       "       [13.5],\n",
       "       [11.8],\n",
       "       [18.5],\n",
       "       [ 8.8],\n",
       "       [22.2],\n",
       "       [21.5],\n",
       "       [18.8],\n",
       "       [31.4],\n",
       "       [26.8],\n",
       "       [18.4],\n",
       "       [27. ],\n",
       "       [27. ],\n",
       "       [26.6],\n",
       "       [14.9],\n",
       "       [23.1],\n",
       "       [ 8.3],\n",
       "       [14.1],\n",
       "       [20.5],\n",
       "       [18.2],\n",
       "       [ 8.5],\n",
       "       [24.9],\n",
       "       [ 9. ],\n",
       "       [17.4],\n",
       "       [ 9.6],\n",
       "       [11.3],\n",
       "       [17.8],\n",
       "       [22.2],\n",
       "       [21.2],\n",
       "       [20.4],\n",
       "       [20.1],\n",
       "       [22.3],\n",
       "       [25.4],\n",
       "       [18. ],\n",
       "       [19.3],\n",
       "       [18.3],\n",
       "       [17.3],\n",
       "       [21.4],\n",
       "       [19.7],\n",
       "       [28. ],\n",
       "       [22.1],\n",
       "       [21.3],\n",
       "       [26.7],\n",
       "       [16.7],\n",
       "       [20.1],\n",
       "       [13.9],\n",
       "       [25.8],\n",
       "       [18.1],\n",
       "       [27.9],\n",
       "       [25.3],\n",
       "       [14.7],\n",
       "       [16. ],\n",
       "       [13.8],\n",
       "       [17.5],\n",
       "       [27.2],\n",
       "       [17.4],\n",
       "       [20.8],\n",
       "       [14.9],\n",
       "       [18.1],\n",
       "       [22.7],\n",
       "       [23.6],\n",
       "       [26.1],\n",
       "       [24.4],\n",
       "       [27.1],\n",
       "       [21.8],\n",
       "       [29.4],\n",
       "       [22.4],\n",
       "       [20.4],\n",
       "       [24.9],\n",
       "       [18.3],\n",
       "       [23.3],\n",
       "       [ 9.4],\n",
       "       [10.3],\n",
       "       [14.2],\n",
       "       [19.2],\n",
       "       [29.6],\n",
       "       [ 5.3],\n",
       "       [25.2],\n",
       "       [ 9.4],\n",
       "       [19.6],\n",
       "       [10.1],\n",
       "       [16.5],\n",
       "       [21. ],\n",
       "       [17.3],\n",
       "       [31.2],\n",
       "       [10. ],\n",
       "       [12.5],\n",
       "       [22.5],\n",
       "       [ 9.4],\n",
       "       [14.6],\n",
       "       [13. ],\n",
       "       [15.1],\n",
       "       [27.3],\n",
       "       [19.2],\n",
       "       [21.8],\n",
       "       [20.3],\n",
       "       [34.3],\n",
       "       [16.5],\n",
       "       [ 3. ],\n",
       "       [ 0.7],\n",
       "       [20.5],\n",
       "       [16.9],\n",
       "       [25.3],\n",
       "       [ 9.9],\n",
       "       [13.1],\n",
       "       [29.9],\n",
       "       [22.5],\n",
       "       [16.9],\n",
       "       [26.6],\n",
       "       [ 0. ],\n",
       "       [11.5],\n",
       "       [12.1],\n",
       "       [17.5],\n",
       "       [ 8.6],\n",
       "       [23.6],\n",
       "       [20.4],\n",
       "       [20.5],\n",
       "       [24.4],\n",
       "       [11.4],\n",
       "       [38.1],\n",
       "       [15.9],\n",
       "       [24.7],\n",
       "       [22.8],\n",
       "       [25.5],\n",
       "       [22. ],\n",
       "       [17.7],\n",
       "       [ 6.6],\n",
       "       [23.6],\n",
       "       [12.2],\n",
       "       [22.1],\n",
       "       [28.7],\n",
       "       [ 6. ],\n",
       "       [34.8],\n",
       "       [16.6],\n",
       "       [32.9],\n",
       "       [32.8],\n",
       "       [ 9.6],\n",
       "       [10.8],\n",
       "       [ 7.1],\n",
       "       [27.2],\n",
       "       [19.5],\n",
       "       [18.7],\n",
       "       [19.5],\n",
       "       [47.5],\n",
       "       [13.6],\n",
       "       [ 7.5],\n",
       "       [24.5],\n",
       "       [15. ],\n",
       "       [12.4],\n",
       "       [26. ],\n",
       "       [11.5],\n",
       "       [ 5.2],\n",
       "       [10.9],\n",
       "       [12.5],\n",
       "       [14.8],\n",
       "       [25.2],\n",
       "       [14.9],\n",
       "       [17. ],\n",
       "       [10.6],\n",
       "       [16.1],\n",
       "       [15.4],\n",
       "       [26.7],\n",
       "       [25.8],\n",
       "       [18.6],\n",
       "       [24.8],\n",
       "       [27.3],\n",
       "       [12.4],\n",
       "       [29.9],\n",
       "       [17. ],\n",
       "       [35. ],\n",
       "       [30.4],\n",
       "       [32.6],\n",
       "       [29. ],\n",
       "       [15.2],\n",
       "       [30.2],\n",
       "       [11. ],\n",
       "       [33.6],\n",
       "       [29.3],\n",
       "       [26. ],\n",
       "       [31.9]])"
      ]
     },
     "execution_count": 17,
     "metadata": {},
     "output_type": "execute_result"
    }
   ],
   "source": [
    "y"
   ]
  },
  {
   "cell_type": "markdown",
   "id": "42e38db3",
   "metadata": {},
   "source": [
    "# importing library trainning set and text"
   ]
  },
  {
   "cell_type": "code",
   "execution_count": 18,
   "id": "0e0d692d",
   "metadata": {},
   "outputs": [],
   "source": [
    "from sklearn.model_selection import train_test_split"
   ]
  },
  {
   "cell_type": "markdown",
   "id": "cce40705",
   "metadata": {},
   "source": [
    "# splitting data"
   ]
  },
  {
   "cell_type": "code",
   "execution_count": 19,
   "id": "1f86d1df",
   "metadata": {},
   "outputs": [],
   "source": [
    "x_train,x_test,y_train,y_test=train_test_split(x,y,test_size=0.2,random_state=0)"
   ]
  },
  {
   "cell_type": "code",
   "execution_count": 20,
   "id": "a28b9dda",
   "metadata": {},
   "outputs": [
    {
     "data": {
      "text/plain": [
       "(201, 1)"
      ]
     },
     "execution_count": 20,
     "metadata": {},
     "output_type": "execute_result"
    }
   ],
   "source": [
    "x_train.shape"
   ]
  },
  {
   "cell_type": "code",
   "execution_count": 21,
   "id": "0853a328",
   "metadata": {},
   "outputs": [
    {
     "data": {
      "text/plain": [
       "(51, 1)"
      ]
     },
     "execution_count": 21,
     "metadata": {},
     "output_type": "execute_result"
    }
   ],
   "source": [
    "x_test.shape"
   ]
  },
  {
   "cell_type": "code",
   "execution_count": 22,
   "id": "908131d1",
   "metadata": {},
   "outputs": [
    {
     "data": {
      "text/plain": [
       "(201, 1)"
      ]
     },
     "execution_count": 22,
     "metadata": {},
     "output_type": "execute_result"
    }
   ],
   "source": [
    "y_train.shape"
   ]
  },
  {
   "cell_type": "code",
   "execution_count": 23,
   "id": "9040398d",
   "metadata": {},
   "outputs": [
    {
     "data": {
      "text/plain": [
       "(51, 1)"
      ]
     },
     "execution_count": 23,
     "metadata": {},
     "output_type": "execute_result"
    }
   ],
   "source": [
    "y_test.shape"
   ]
  },
  {
   "cell_type": "code",
   "execution_count": 24,
   "id": "73a09add",
   "metadata": {},
   "outputs": [],
   "source": [
    "from sklearn.linear_model import LinearRegression"
   ]
  },
  {
   "cell_type": "markdown",
   "id": "54cff9bf",
   "metadata": {},
   "source": [
    "# applying linear regression"
   ]
  },
  {
   "cell_type": "code",
   "execution_count": 25,
   "id": "add99143",
   "metadata": {},
   "outputs": [],
   "source": [
    "lm=LinearRegression()"
   ]
  },
  {
   "cell_type": "markdown",
   "id": "0607f948",
   "metadata": {},
   "source": [
    "# fitting the values of regression"
   ]
  },
  {
   "cell_type": "code",
   "execution_count": 26,
   "id": "8d77fcf7",
   "metadata": {},
   "outputs": [
    {
     "data": {
      "text/plain": [
       "LinearRegression()"
      ]
     },
     "execution_count": 26,
     "metadata": {},
     "output_type": "execute_result"
    }
   ],
   "source": [
    "lm.fit(x_train,y_train)"
   ]
  },
  {
   "cell_type": "markdown",
   "id": "a0adbb0a",
   "metadata": {},
   "source": [
    "# prediction of linear regression"
   ]
  },
  {
   "cell_type": "code",
   "execution_count": 27,
   "id": "d0dca7b4",
   "metadata": {},
   "outputs": [],
   "source": [
    "y_pred=lm.predict(x_test)"
   ]
  },
  {
   "cell_type": "code",
   "execution_count": 28,
   "id": "8acc5e4c",
   "metadata": {},
   "outputs": [
    {
     "data": {
      "text/plain": [
       "array([[15.31114253],\n",
       "       [21.77757456],\n",
       "       [17.56033628],\n",
       "       [15.59229175],\n",
       "       [17.8414855 ],\n",
       "       [20.65297769],\n",
       "       [19.80953003],\n",
       "       [19.52838081],\n",
       "       [20.65297769],\n",
       "       [17.27918706],\n",
       "       [19.52838081],\n",
       "       [18.40378394],\n",
       "       [16.4357394 ],\n",
       "       [20.65297769],\n",
       "       [18.12263472],\n",
       "       [15.31114253],\n",
       "       [22.339873  ],\n",
       "       [15.31114253],\n",
       "       [20.09067925],\n",
       "       [18.96608237],\n",
       "       [21.49642534],\n",
       "       [19.24723159],\n",
       "       [21.49642534],\n",
       "       [17.27918706],\n",
       "       [18.68493315],\n",
       "       [26.55711128],\n",
       "       [18.96608237],\n",
       "       [20.93412691],\n",
       "       [16.71688862],\n",
       "       [22.339873  ],\n",
       "       [20.65297769],\n",
       "       [16.15459018],\n",
       "       [16.71688862],\n",
       "       [16.15459018],\n",
       "       [20.65297769],\n",
       "       [16.4357394 ],\n",
       "       [24.02676831],\n",
       "       [20.65297769],\n",
       "       [14.74884409],\n",
       "       [18.12263472],\n",
       "       [17.27918706],\n",
       "       [17.56033628],\n",
       "       [16.71688862],\n",
       "       [18.68493315],\n",
       "       [17.56033628],\n",
       "       [17.56033628],\n",
       "       [19.24723159],\n",
       "       [13.06194878],\n",
       "       [19.52838081],\n",
       "       [14.18654565],\n",
       "       [19.24723159]])"
      ]
     },
     "execution_count": 28,
     "metadata": {},
     "output_type": "execute_result"
    }
   ],
   "source": [
    "y_pred"
   ]
  },
  {
   "cell_type": "markdown",
   "id": "b73aba7b",
   "metadata": {},
   "source": [
    "# checking dataframes"
   ]
  },
  {
   "cell_type": "code",
   "execution_count": 31,
   "id": "d8091acb",
   "metadata": {},
   "outputs": [],
   "source": [
    "check=pd.DataFrame(x_test,columns=['bodyfat'])\n",
    "check['Density']=y_test\n",
    "check['age']=y_pred"
   ]
  },
  {
   "cell_type": "code",
   "execution_count": 32,
   "id": "c33ac050",
   "metadata": {},
   "outputs": [
    {
     "data": {
      "text/html": [
       "<div>\n",
       "<style scoped>\n",
       "    .dataframe tbody tr th:only-of-type {\n",
       "        vertical-align: middle;\n",
       "    }\n",
       "\n",
       "    .dataframe tbody tr th {\n",
       "        vertical-align: top;\n",
       "    }\n",
       "\n",
       "    .dataframe thead th {\n",
       "        text-align: right;\n",
       "    }\n",
       "</style>\n",
       "<table border=\"1\" class=\"dataframe\">\n",
       "  <thead>\n",
       "    <tr style=\"text-align: right;\">\n",
       "      <th></th>\n",
       "      <th>bodyfat</th>\n",
       "      <th>Density</th>\n",
       "      <th>age</th>\n",
       "    </tr>\n",
       "  </thead>\n",
       "  <tbody>\n",
       "    <tr>\n",
       "      <th>0</th>\n",
       "      <td>16.9</td>\n",
       "      <td>12.5</td>\n",
       "      <td>15.311143</td>\n",
       "    </tr>\n",
       "    <tr>\n",
       "      <th>1</th>\n",
       "      <td>19.2</td>\n",
       "      <td>27.0</td>\n",
       "      <td>21.777575</td>\n",
       "    </tr>\n",
       "    <tr>\n",
       "      <th>2</th>\n",
       "      <td>17.7</td>\n",
       "      <td>3.0</td>\n",
       "      <td>17.560336</td>\n",
       "    </tr>\n",
       "    <tr>\n",
       "      <th>3</th>\n",
       "      <td>17.0</td>\n",
       "      <td>20.4</td>\n",
       "      <td>15.592292</td>\n",
       "    </tr>\n",
       "    <tr>\n",
       "      <th>4</th>\n",
       "      <td>17.8</td>\n",
       "      <td>9.4</td>\n",
       "      <td>17.841485</td>\n",
       "    </tr>\n",
       "    <tr>\n",
       "      <th>5</th>\n",
       "      <td>18.8</td>\n",
       "      <td>23.6</td>\n",
       "      <td>20.652978</td>\n",
       "    </tr>\n",
       "    <tr>\n",
       "      <th>6</th>\n",
       "      <td>18.5</td>\n",
       "      <td>25.8</td>\n",
       "      <td>19.809530</td>\n",
       "    </tr>\n",
       "    <tr>\n",
       "      <th>7</th>\n",
       "      <td>18.4</td>\n",
       "      <td>25.2</td>\n",
       "      <td>19.528381</td>\n",
       "    </tr>\n",
       "    <tr>\n",
       "      <th>8</th>\n",
       "      <td>18.8</td>\n",
       "      <td>25.8</td>\n",
       "      <td>20.652978</td>\n",
       "    </tr>\n",
       "    <tr>\n",
       "      <th>9</th>\n",
       "      <td>17.6</td>\n",
       "      <td>27.1</td>\n",
       "      <td>17.279187</td>\n",
       "    </tr>\n",
       "    <tr>\n",
       "      <th>10</th>\n",
       "      <td>18.4</td>\n",
       "      <td>25.2</td>\n",
       "      <td>19.528381</td>\n",
       "    </tr>\n",
       "    <tr>\n",
       "      <th>11</th>\n",
       "      <td>18.0</td>\n",
       "      <td>15.4</td>\n",
       "      <td>18.403784</td>\n",
       "    </tr>\n",
       "    <tr>\n",
       "      <th>12</th>\n",
       "      <td>17.3</td>\n",
       "      <td>21.4</td>\n",
       "      <td>16.435739</td>\n",
       "    </tr>\n",
       "    <tr>\n",
       "      <th>13</th>\n",
       "      <td>18.8</td>\n",
       "      <td>20.5</td>\n",
       "      <td>20.652978</td>\n",
       "    </tr>\n",
       "    <tr>\n",
       "      <th>14</th>\n",
       "      <td>17.9</td>\n",
       "      <td>16.5</td>\n",
       "      <td>18.122635</td>\n",
       "    </tr>\n",
       "    <tr>\n",
       "      <th>15</th>\n",
       "      <td>16.9</td>\n",
       "      <td>13.5</td>\n",
       "      <td>15.311143</td>\n",
       "    </tr>\n",
       "    <tr>\n",
       "      <th>16</th>\n",
       "      <td>19.4</td>\n",
       "      <td>16.6</td>\n",
       "      <td>22.339873</td>\n",
       "    </tr>\n",
       "    <tr>\n",
       "      <th>17</th>\n",
       "      <td>16.9</td>\n",
       "      <td>0.7</td>\n",
       "      <td>15.311143</td>\n",
       "    </tr>\n",
       "    <tr>\n",
       "      <th>18</th>\n",
       "      <td>18.6</td>\n",
       "      <td>10.0</td>\n",
       "      <td>20.090679</td>\n",
       "    </tr>\n",
       "    <tr>\n",
       "      <th>19</th>\n",
       "      <td>18.2</td>\n",
       "      <td>11.3</td>\n",
       "      <td>18.966082</td>\n",
       "    </tr>\n",
       "    <tr>\n",
       "      <th>20</th>\n",
       "      <td>19.1</td>\n",
       "      <td>20.4</td>\n",
       "      <td>21.496425</td>\n",
       "    </tr>\n",
       "    <tr>\n",
       "      <th>21</th>\n",
       "      <td>18.3</td>\n",
       "      <td>13.9</td>\n",
       "      <td>19.247232</td>\n",
       "    </tr>\n",
       "    <tr>\n",
       "      <th>22</th>\n",
       "      <td>19.1</td>\n",
       "      <td>29.9</td>\n",
       "      <td>21.496425</td>\n",
       "    </tr>\n",
       "    <tr>\n",
       "      <th>23</th>\n",
       "      <td>17.6</td>\n",
       "      <td>22.4</td>\n",
       "      <td>17.279187</td>\n",
       "    </tr>\n",
       "    <tr>\n",
       "      <th>24</th>\n",
       "      <td>18.1</td>\n",
       "      <td>19.7</td>\n",
       "      <td>18.684933</td>\n",
       "    </tr>\n",
       "    <tr>\n",
       "      <th>25</th>\n",
       "      <td>20.9</td>\n",
       "      <td>31.9</td>\n",
       "      <td>26.557111</td>\n",
       "    </tr>\n",
       "    <tr>\n",
       "      <th>26</th>\n",
       "      <td>18.2</td>\n",
       "      <td>4.1</td>\n",
       "      <td>18.966082</td>\n",
       "    </tr>\n",
       "    <tr>\n",
       "      <th>27</th>\n",
       "      <td>18.9</td>\n",
       "      <td>22.6</td>\n",
       "      <td>20.934127</td>\n",
       "    </tr>\n",
       "    <tr>\n",
       "      <th>28</th>\n",
       "      <td>17.4</td>\n",
       "      <td>22.0</td>\n",
       "      <td>16.716889</td>\n",
       "    </tr>\n",
       "    <tr>\n",
       "      <th>29</th>\n",
       "      <td>19.4</td>\n",
       "      <td>28.4</td>\n",
       "      <td>22.339873</td>\n",
       "    </tr>\n",
       "    <tr>\n",
       "      <th>30</th>\n",
       "      <td>18.8</td>\n",
       "      <td>30.2</td>\n",
       "      <td>20.652978</td>\n",
       "    </tr>\n",
       "    <tr>\n",
       "      <th>31</th>\n",
       "      <td>17.2</td>\n",
       "      <td>27.2</td>\n",
       "      <td>16.154590</td>\n",
       "    </tr>\n",
       "    <tr>\n",
       "      <th>32</th>\n",
       "      <td>17.4</td>\n",
       "      <td>28.0</td>\n",
       "      <td>16.716889</td>\n",
       "    </tr>\n",
       "    <tr>\n",
       "      <th>33</th>\n",
       "      <td>17.2</td>\n",
       "      <td>11.5</td>\n",
       "      <td>16.154590</td>\n",
       "    </tr>\n",
       "    <tr>\n",
       "      <th>34</th>\n",
       "      <td>18.8</td>\n",
       "      <td>34.3</td>\n",
       "      <td>20.652978</td>\n",
       "    </tr>\n",
       "    <tr>\n",
       "      <th>35</th>\n",
       "      <td>17.3</td>\n",
       "      <td>14.2</td>\n",
       "      <td>16.435739</td>\n",
       "    </tr>\n",
       "    <tr>\n",
       "      <th>36</th>\n",
       "      <td>20.0</td>\n",
       "      <td>23.6</td>\n",
       "      <td>24.026768</td>\n",
       "    </tr>\n",
       "    <tr>\n",
       "      <th>37</th>\n",
       "      <td>18.8</td>\n",
       "      <td>20.9</td>\n",
       "      <td>20.652978</td>\n",
       "    </tr>\n",
       "    <tr>\n",
       "      <th>38</th>\n",
       "      <td>16.7</td>\n",
       "      <td>15.6</td>\n",
       "      <td>14.748844</td>\n",
       "    </tr>\n",
       "    <tr>\n",
       "      <th>39</th>\n",
       "      <td>17.9</td>\n",
       "      <td>11.4</td>\n",
       "      <td>18.122635</td>\n",
       "    </tr>\n",
       "    <tr>\n",
       "      <th>40</th>\n",
       "      <td>17.6</td>\n",
       "      <td>17.5</td>\n",
       "      <td>17.279187</td>\n",
       "    </tr>\n",
       "    <tr>\n",
       "      <th>41</th>\n",
       "      <td>17.7</td>\n",
       "      <td>20.8</td>\n",
       "      <td>17.560336</td>\n",
       "    </tr>\n",
       "    <tr>\n",
       "      <th>42</th>\n",
       "      <td>17.4</td>\n",
       "      <td>34.8</td>\n",
       "      <td>16.716889</td>\n",
       "    </tr>\n",
       "    <tr>\n",
       "      <th>43</th>\n",
       "      <td>18.1</td>\n",
       "      <td>22.5</td>\n",
       "      <td>18.684933</td>\n",
       "    </tr>\n",
       "    <tr>\n",
       "      <th>44</th>\n",
       "      <td>17.7</td>\n",
       "      <td>20.5</td>\n",
       "      <td>17.560336</td>\n",
       "    </tr>\n",
       "    <tr>\n",
       "      <th>45</th>\n",
       "      <td>17.7</td>\n",
       "      <td>14.9</td>\n",
       "      <td>17.560336</td>\n",
       "    </tr>\n",
       "    <tr>\n",
       "      <th>46</th>\n",
       "      <td>18.3</td>\n",
       "      <td>12.4</td>\n",
       "      <td>19.247232</td>\n",
       "    </tr>\n",
       "    <tr>\n",
       "      <th>47</th>\n",
       "      <td>16.1</td>\n",
       "      <td>7.7</td>\n",
       "      <td>13.061949</td>\n",
       "    </tr>\n",
       "    <tr>\n",
       "      <th>48</th>\n",
       "      <td>18.4</td>\n",
       "      <td>32.3</td>\n",
       "      <td>19.528381</td>\n",
       "    </tr>\n",
       "    <tr>\n",
       "      <th>49</th>\n",
       "      <td>16.5</td>\n",
       "      <td>0.0</td>\n",
       "      <td>14.186546</td>\n",
       "    </tr>\n",
       "    <tr>\n",
       "      <th>50</th>\n",
       "      <td>18.3</td>\n",
       "      <td>8.8</td>\n",
       "      <td>19.247232</td>\n",
       "    </tr>\n",
       "  </tbody>\n",
       "</table>\n",
       "</div>"
      ],
      "text/plain": [
       "    bodyfat  Density        age\n",
       "0      16.9     12.5  15.311143\n",
       "1      19.2     27.0  21.777575\n",
       "2      17.7      3.0  17.560336\n",
       "3      17.0     20.4  15.592292\n",
       "4      17.8      9.4  17.841485\n",
       "5      18.8     23.6  20.652978\n",
       "6      18.5     25.8  19.809530\n",
       "7      18.4     25.2  19.528381\n",
       "8      18.8     25.8  20.652978\n",
       "9      17.6     27.1  17.279187\n",
       "10     18.4     25.2  19.528381\n",
       "11     18.0     15.4  18.403784\n",
       "12     17.3     21.4  16.435739\n",
       "13     18.8     20.5  20.652978\n",
       "14     17.9     16.5  18.122635\n",
       "15     16.9     13.5  15.311143\n",
       "16     19.4     16.6  22.339873\n",
       "17     16.9      0.7  15.311143\n",
       "18     18.6     10.0  20.090679\n",
       "19     18.2     11.3  18.966082\n",
       "20     19.1     20.4  21.496425\n",
       "21     18.3     13.9  19.247232\n",
       "22     19.1     29.9  21.496425\n",
       "23     17.6     22.4  17.279187\n",
       "24     18.1     19.7  18.684933\n",
       "25     20.9     31.9  26.557111\n",
       "26     18.2      4.1  18.966082\n",
       "27     18.9     22.6  20.934127\n",
       "28     17.4     22.0  16.716889\n",
       "29     19.4     28.4  22.339873\n",
       "30     18.8     30.2  20.652978\n",
       "31     17.2     27.2  16.154590\n",
       "32     17.4     28.0  16.716889\n",
       "33     17.2     11.5  16.154590\n",
       "34     18.8     34.3  20.652978\n",
       "35     17.3     14.2  16.435739\n",
       "36     20.0     23.6  24.026768\n",
       "37     18.8     20.9  20.652978\n",
       "38     16.7     15.6  14.748844\n",
       "39     17.9     11.4  18.122635\n",
       "40     17.6     17.5  17.279187\n",
       "41     17.7     20.8  17.560336\n",
       "42     17.4     34.8  16.716889\n",
       "43     18.1     22.5  18.684933\n",
       "44     17.7     20.5  17.560336\n",
       "45     17.7     14.9  17.560336\n",
       "46     18.3     12.4  19.247232\n",
       "47     16.1      7.7  13.061949\n",
       "48     18.4     32.3  19.528381\n",
       "49     16.5      0.0  14.186546\n",
       "50     18.3      8.8  19.247232"
      ]
     },
     "execution_count": 32,
     "metadata": {},
     "output_type": "execute_result"
    }
   ],
   "source": [
    "check"
   ]
  },
  {
   "cell_type": "markdown",
   "id": "f4113217",
   "metadata": {},
   "source": [
    "# regression visualisation"
   ]
  },
  {
   "cell_type": "code",
   "execution_count": 33,
   "id": "3caba000",
   "metadata": {},
   "outputs": [
    {
     "data": {
      "image/png": "[encoded data removed]",
      "text/plain": [
       "<Figure size 432x288 with 1 Axes>"
      ]
     },
     "metadata": {
      "needs_background": "light"
     },
     "output_type": "display_data"
    }
   ],
   "source": [
    "\n",
    "plt.plot(y_test,color='yellow')\n",
    "plt.plot(y_pred,color='red')\n",
    "plt.show()"
   ]
  },
  {
   "cell_type": "code",
   "execution_count": 34,
   "id": "6141783b",
   "metadata": {},
   "outputs": [
    {
     "data": {
      "image/png": "[encoded data removed]",
      "text/plain": [
       "<Figure size 432x288 with 1 Axes>"
      ]
     },
     "metadata": {
      "needs_background": "light"
     },
     "output_type": "display_data"
    }
   ],
   "source": [
    "plt.scatter(y_test,y_test,y_pred,color='red')\n",
    "plt.plot(x_test,y_pred,color='yellow')\n",
    "plt.title('Multiple LinearRegression')\n",
    "plt.xlabel('Density')\n",
    "plt.ylabel('age')\n",
    "plt.show()"
   ]
  },
  {
   "cell_type": "markdown",
   "id": "b3376c58",
   "metadata": {},
   "source": [
    "# performing metrics"
   ]
  },
  {
   "cell_type": "markdown",
   "id": "877b219f",
   "metadata": {},
   "source": [
    "# importing libraries"
   ]
  },
  {
   "cell_type": "code",
   "execution_count": 35,
   "id": "0d9bb113",
   "metadata": {},
   "outputs": [],
   "source": [
    "from sklearn.metrics import mean_squared_error,mean_absolute_error,r2_score"
   ]
  },
  {
   "cell_type": "markdown",
   "id": "16fc8168",
   "metadata": {},
   "source": [
    "# MEAN SQUARED ERROR"
   ]
  },
  {
   "cell_type": "code",
   "execution_count": 36,
   "id": "f33f913f",
   "metadata": {},
   "outputs": [
    {
     "data": {
      "text/plain": [
       "58.45373376949494"
      ]
     },
     "execution_count": 36,
     "metadata": {},
     "output_type": "execute_result"
    }
   ],
   "source": [
    "mean_squared_error(y_test,y_pred)"
   ]
  },
  {
   "cell_type": "markdown",
   "id": "335a98e5",
   "metadata": {},
   "source": [
    "# applying mean squared error"
   ]
  },
  {
   "cell_type": "code",
   "execution_count": 37,
   "id": "2e95999e",
   "metadata": {},
   "outputs": [
    {
     "data": {
      "text/plain": [
       "58.45373376949494"
      ]
     },
     "execution_count": 37,
     "metadata": {},
     "output_type": "execute_result"
    }
   ],
   "source": [
    "mean_squared_error(y_test,y_pred)"
   ]
  },
  {
   "cell_type": "markdown",
   "id": "2ca959ee",
   "metadata": {},
   "source": [
    "# mean absolute error"
   ]
  },
  {
   "cell_type": "code",
   "execution_count": 38,
   "id": "b3ec7196",
   "metadata": {},
   "outputs": [
    {
     "data": {
      "text/plain": [
       "6.199787114020441"
      ]
     },
     "execution_count": 38,
     "metadata": {},
     "output_type": "execute_result"
    }
   ],
   "source": [
    "mean_absolute_error(y_test,y_pred)\n"
   ]
  },
  {
   "cell_type": "markdown",
   "id": "e34c13a7",
   "metadata": {},
   "source": [
    "# r squared score"
   ]
  },
  {
   "cell_type": "code",
   "execution_count": 39,
   "id": "f2b02207",
   "metadata": {},
   "outputs": [
    {
     "data": {
      "text/plain": [
       "0.19176813259896064"
      ]
     },
     "execution_count": 39,
     "metadata": {},
     "output_type": "execute_result"
    }
   ],
   "source": [
    "r2_score(y_test,y_pred)"
   ]
  },
  {
   "cell_type": "markdown",
   "id": "6dbf84c5",
   "metadata": {},
   "source": [
    "# statistics\n",
    "# measure of the central tendency"
   ]
  },
  {
   "cell_type": "code",
   "execution_count": 40,
   "id": "4e75d292",
   "metadata": {},
   "outputs": [
    {
     "data": {
      "text/plain": [
       "Density      1.055574\n",
       "BodyFat     19.150794\n",
       "Age         44.884921\n",
       "Weight     178.924405\n",
       "Height      70.148810\n",
       "Neck        37.992063\n",
       "Chest      100.824206\n",
       "Abdomen     92.555952\n",
       "Hip         99.904762\n",
       "Thigh       59.405952\n",
       "Knee        38.590476\n",
       "Ankle       23.102381\n",
       "Biceps      32.273413\n",
       "Forearm     28.663889\n",
       "Wrist       18.229762\n",
       "dtype: float64"
      ]
     },
     "execution_count": 40,
     "metadata": {},
     "output_type": "execute_result"
    }
   ],
   "source": [
    "dataset.mean()"
   ]
  },
  {
   "cell_type": "code",
   "execution_count": 41,
   "id": "05e36432",
   "metadata": {},
   "outputs": [
    {
     "data": {
      "text/plain": [
       "Density      1.0549\n",
       "BodyFat     19.2000\n",
       "Age         43.0000\n",
       "Weight     176.5000\n",
       "Height      70.0000\n",
       "Neck        38.0000\n",
       "Chest       99.6500\n",
       "Abdomen     90.9500\n",
       "Hip         99.3000\n",
       "Thigh       59.0000\n",
       "Knee        38.5000\n",
       "Ankle       22.8000\n",
       "Biceps      32.0500\n",
       "Forearm     28.7000\n",
       "Wrist       18.3000\n",
       "dtype: float64"
      ]
     },
     "execution_count": 41,
     "metadata": {},
     "output_type": "execute_result"
    }
   ],
   "source": [
    "dataset.median()"
   ]
  },
  {
   "cell_type": "code",
   "execution_count": 42,
   "id": "0e0ed035",
   "metadata": {},
   "outputs": [
    {
     "data": {
      "text/html": [
       "<div>\n",
       "<style scoped>\n",
       "    .dataframe tbody tr th:only-of-type {\n",
       "        vertical-align: middle;\n",
       "    }\n",
       "\n",
       "    .dataframe tbody tr th {\n",
       "        vertical-align: top;\n",
       "    }\n",
       "\n",
       "    .dataframe thead th {\n",
       "        text-align: right;\n",
       "    }\n",
       "</style>\n",
       "<table border=\"1\" class=\"dataframe\">\n",
       "  <thead>\n",
       "    <tr style=\"text-align: right;\">\n",
       "      <th></th>\n",
       "      <th>Density</th>\n",
       "      <th>BodyFat</th>\n",
       "      <th>Age</th>\n",
       "      <th>Weight</th>\n",
       "      <th>Height</th>\n",
       "      <th>Neck</th>\n",
       "      <th>Chest</th>\n",
       "      <th>Abdomen</th>\n",
       "      <th>Hip</th>\n",
       "      <th>Thigh</th>\n",
       "      <th>Knee</th>\n",
       "      <th>Ankle</th>\n",
       "      <th>Biceps</th>\n",
       "      <th>Forearm</th>\n",
       "      <th>Wrist</th>\n",
       "    </tr>\n",
       "  </thead>\n",
       "  <tbody>\n",
       "    <tr>\n",
       "      <th>0</th>\n",
       "      <td>1.061</td>\n",
       "      <td>20.4</td>\n",
       "      <td>40.0</td>\n",
       "      <td>152.25</td>\n",
       "      <td>71.5</td>\n",
       "      <td>38.5</td>\n",
       "      <td>99.1</td>\n",
       "      <td>88.7</td>\n",
       "      <td>98.3</td>\n",
       "      <td>58.9</td>\n",
       "      <td>39.0</td>\n",
       "      <td>22.0</td>\n",
       "      <td>30.5</td>\n",
       "      <td>27.3</td>\n",
       "      <td>18.8</td>\n",
       "    </tr>\n",
       "    <tr>\n",
       "      <th>1</th>\n",
       "      <td>NaN</td>\n",
       "      <td>NaN</td>\n",
       "      <td>NaN</td>\n",
       "      <td>167.00</td>\n",
       "      <td>NaN</td>\n",
       "      <td>NaN</td>\n",
       "      <td>102.7</td>\n",
       "      <td>89.7</td>\n",
       "      <td>NaN</td>\n",
       "      <td>NaN</td>\n",
       "      <td>NaN</td>\n",
       "      <td>22.5</td>\n",
       "      <td>31.6</td>\n",
       "      <td>29.6</td>\n",
       "      <td>NaN</td>\n",
       "    </tr>\n",
       "    <tr>\n",
       "      <th>2</th>\n",
       "      <td>NaN</td>\n",
       "      <td>NaN</td>\n",
       "      <td>NaN</td>\n",
       "      <td>168.00</td>\n",
       "      <td>NaN</td>\n",
       "      <td>NaN</td>\n",
       "      <td>NaN</td>\n",
       "      <td>100.5</td>\n",
       "      <td>NaN</td>\n",
       "      <td>NaN</td>\n",
       "      <td>NaN</td>\n",
       "      <td>22.6</td>\n",
       "      <td>NaN</td>\n",
       "      <td>29.8</td>\n",
       "      <td>NaN</td>\n",
       "    </tr>\n",
       "    <tr>\n",
       "      <th>3</th>\n",
       "      <td>NaN</td>\n",
       "      <td>NaN</td>\n",
       "      <td>NaN</td>\n",
       "      <td>168.25</td>\n",
       "      <td>NaN</td>\n",
       "      <td>NaN</td>\n",
       "      <td>NaN</td>\n",
       "      <td>NaN</td>\n",
       "      <td>NaN</td>\n",
       "      <td>NaN</td>\n",
       "      <td>NaN</td>\n",
       "      <td>NaN</td>\n",
       "      <td>NaN</td>\n",
       "      <td>NaN</td>\n",
       "      <td>NaN</td>\n",
       "    </tr>\n",
       "    <tr>\n",
       "      <th>4</th>\n",
       "      <td>NaN</td>\n",
       "      <td>NaN</td>\n",
       "      <td>NaN</td>\n",
       "      <td>170.75</td>\n",
       "      <td>NaN</td>\n",
       "      <td>NaN</td>\n",
       "      <td>NaN</td>\n",
       "      <td>NaN</td>\n",
       "      <td>NaN</td>\n",
       "      <td>NaN</td>\n",
       "      <td>NaN</td>\n",
       "      <td>NaN</td>\n",
       "      <td>NaN</td>\n",
       "      <td>NaN</td>\n",
       "      <td>NaN</td>\n",
       "    </tr>\n",
       "    <tr>\n",
       "      <th>5</th>\n",
       "      <td>NaN</td>\n",
       "      <td>NaN</td>\n",
       "      <td>NaN</td>\n",
       "      <td>172.75</td>\n",
       "      <td>NaN</td>\n",
       "      <td>NaN</td>\n",
       "      <td>NaN</td>\n",
       "      <td>NaN</td>\n",
       "      <td>NaN</td>\n",
       "      <td>NaN</td>\n",
       "      <td>NaN</td>\n",
       "      <td>NaN</td>\n",
       "      <td>NaN</td>\n",
       "      <td>NaN</td>\n",
       "      <td>NaN</td>\n",
       "    </tr>\n",
       "    <tr>\n",
       "      <th>6</th>\n",
       "      <td>NaN</td>\n",
       "      <td>NaN</td>\n",
       "      <td>NaN</td>\n",
       "      <td>177.25</td>\n",
       "      <td>NaN</td>\n",
       "      <td>NaN</td>\n",
       "      <td>NaN</td>\n",
       "      <td>NaN</td>\n",
       "      <td>NaN</td>\n",
       "      <td>NaN</td>\n",
       "      <td>NaN</td>\n",
       "      <td>NaN</td>\n",
       "      <td>NaN</td>\n",
       "      <td>NaN</td>\n",
       "      <td>NaN</td>\n",
       "    </tr>\n",
       "    <tr>\n",
       "      <th>7</th>\n",
       "      <td>NaN</td>\n",
       "      <td>NaN</td>\n",
       "      <td>NaN</td>\n",
       "      <td>179.75</td>\n",
       "      <td>NaN</td>\n",
       "      <td>NaN</td>\n",
       "      <td>NaN</td>\n",
       "      <td>NaN</td>\n",
       "      <td>NaN</td>\n",
       "      <td>NaN</td>\n",
       "      <td>NaN</td>\n",
       "      <td>NaN</td>\n",
       "      <td>NaN</td>\n",
       "      <td>NaN</td>\n",
       "      <td>NaN</td>\n",
       "    </tr>\n",
       "    <tr>\n",
       "      <th>8</th>\n",
       "      <td>NaN</td>\n",
       "      <td>NaN</td>\n",
       "      <td>NaN</td>\n",
       "      <td>184.25</td>\n",
       "      <td>NaN</td>\n",
       "      <td>NaN</td>\n",
       "      <td>NaN</td>\n",
       "      <td>NaN</td>\n",
       "      <td>NaN</td>\n",
       "      <td>NaN</td>\n",
       "      <td>NaN</td>\n",
       "      <td>NaN</td>\n",
       "      <td>NaN</td>\n",
       "      <td>NaN</td>\n",
       "      <td>NaN</td>\n",
       "    </tr>\n",
       "  </tbody>\n",
       "</table>\n",
       "</div>"
      ],
      "text/plain": [
       "   Density  BodyFat   Age  Weight  Height  Neck  Chest  Abdomen   Hip  Thigh  \\\n",
       "0    1.061     20.4  40.0  152.25    71.5  38.5   99.1     88.7  98.3   58.9   \n",
       "1      NaN      NaN   NaN  167.00     NaN   NaN  102.7     89.7   NaN    NaN   \n",
       "2      NaN      NaN   NaN  168.00     NaN   NaN    NaN    100.5   NaN    NaN   \n",
       "3      NaN      NaN   NaN  168.25     NaN   NaN    NaN      NaN   NaN    NaN   \n",
       "4      NaN      NaN   NaN  170.75     NaN   NaN    NaN      NaN   NaN    NaN   \n",
       "5      NaN      NaN   NaN  172.75     NaN   NaN    NaN      NaN   NaN    NaN   \n",
       "6      NaN      NaN   NaN  177.25     NaN   NaN    NaN      NaN   NaN    NaN   \n",
       "7      NaN      NaN   NaN  179.75     NaN   NaN    NaN      NaN   NaN    NaN   \n",
       "8      NaN      NaN   NaN  184.25     NaN   NaN    NaN      NaN   NaN    NaN   \n",
       "\n",
       "   Knee  Ankle  Biceps  Forearm  Wrist  \n",
       "0  39.0   22.0    30.5     27.3   18.8  \n",
       "1   NaN   22.5    31.6     29.6    NaN  \n",
       "2   NaN   22.6     NaN     29.8    NaN  \n",
       "3   NaN    NaN     NaN      NaN    NaN  \n",
       "4   NaN    NaN     NaN      NaN    NaN  \n",
       "5   NaN    NaN     NaN      NaN    NaN  \n",
       "6   NaN    NaN     NaN      NaN    NaN  \n",
       "7   NaN    NaN     NaN      NaN    NaN  \n",
       "8   NaN    NaN     NaN      NaN    NaN  "
      ]
     },
     "execution_count": 42,
     "metadata": {},
     "output_type": "execute_result"
    }
   ],
   "source": [
    "dataset.mode()"
   ]
  },
  {
   "cell_type": "markdown",
   "id": "9ef554d3",
   "metadata": {},
   "source": [
    "# measure of spread\n",
    "# range"
   ]
  },
  {
   "cell_type": "code",
   "execution_count": 44,
   "id": "e553207a",
   "metadata": {},
   "outputs": [
    {
     "data": {
      "text/plain": [
       "0.1139"
      ]
     },
     "execution_count": 44,
     "metadata": {},
     "output_type": "execute_result"
    }
   ],
   "source": [
    "max(dataset['Density'])-min(dataset['Density'])"
   ]
  },
  {
   "cell_type": "markdown",
   "id": "75de9ebb",
   "metadata": {},
   "source": [
    "# quantile"
   ]
  },
  {
   "cell_type": "code",
   "execution_count": 45,
   "id": "dcefd113",
   "metadata": {},
   "outputs": [],
   "source": [
    "data_quant=[dataset['Density'].quantile(0),\n",
    "            dataset['Density'].quantile(0.25),\n",
    "            dataset['Density'].quantile(0.50),\n",
    "            dataset['Density'].quantile(0.90),\n",
    "            dataset['Density'].quantile(1)]"
   ]
  },
  {
   "cell_type": "code",
   "execution_count": 46,
   "id": "37e2b72a",
   "metadata": {},
   "outputs": [
    {
     "data": {
      "text/plain": [
       "[0.995, 1.0414, 1.0549, 1.07996, 1.1089]"
      ]
     },
     "execution_count": 46,
     "metadata": {},
     "output_type": "execute_result"
    }
   ],
   "source": [
    "data_quant"
   ]
  },
  {
   "cell_type": "markdown",
   "id": "65af709c",
   "metadata": {},
   "source": [
    "# inter quantile range"
   ]
  },
  {
   "cell_type": "code",
   "execution_count": 48,
   "id": "35b57b75",
   "metadata": {},
   "outputs": [
    {
     "data": {
      "text/plain": [
       "-0.04640000000000011"
      ]
     },
     "execution_count": 48,
     "metadata": {},
     "output_type": "execute_result"
    }
   ],
   "source": [
    "dataset['Density'].quantile(0)-dataset['Density'].quantile(0.25)"
   ]
  },
  {
   "cell_type": "markdown",
   "id": "ae6c029a",
   "metadata": {},
   "source": [
    "# STANDARD DEVIATION"
   ]
  },
  {
   "cell_type": "code",
   "execution_count": 49,
   "id": "b0253992",
   "metadata": {},
   "outputs": [
    {
     "data": {
      "text/plain": [
       "0.019031434171520773"
      ]
     },
     "execution_count": 49,
     "metadata": {},
     "output_type": "execute_result"
    }
   ],
   "source": [
    "dataset['Density'].std()"
   ]
  },
  {
   "cell_type": "code",
   "execution_count": 50,
   "id": "c8dc98bc",
   "metadata": {},
   "outputs": [
    {
     "data": {
      "text/plain": [
       "<bound method NDFrame._add_numeric_operations.<locals>.var of 0      1.0708\n",
       "1      1.0853\n",
       "2      1.0414\n",
       "3      1.0751\n",
       "4      1.0340\n",
       "        ...  \n",
       "247    1.0736\n",
       "248    1.0236\n",
       "249    1.0328\n",
       "250    1.0399\n",
       "251    1.0271\n",
       "Name: Density, Length: 252, dtype: float64>"
      ]
     },
     "execution_count": 50,
     "metadata": {},
     "output_type": "execute_result"
    }
   ],
   "source": [
    "dataset['Density'].var"
   ]
  },
  {
   "cell_type": "markdown",
   "id": "b34d04ed",
   "metadata": {},
   "source": [
    "# mean absolute deviation"
   ]
  },
  {
   "cell_type": "code",
   "execution_count": 51,
   "id": "37c75022",
   "metadata": {},
   "outputs": [],
   "source": [
    "abs_median=abs(dataset['Density']-dataset['Density'].median())"
   ]
  },
  {
   "cell_type": "code",
   "execution_count": 52,
   "id": "0118e735",
   "metadata": {},
   "outputs": [
    {
     "data": {
      "text/plain": [
       "0      0.0159\n",
       "1      0.0304\n",
       "2      0.0135\n",
       "3      0.0202\n",
       "4      0.0209\n",
       "        ...  \n",
       "247    0.0187\n",
       "248    0.0313\n",
       "249    0.0221\n",
       "250    0.0150\n",
       "251    0.0278\n",
       "Name: Density, Length: 252, dtype: float64"
      ]
     },
     "execution_count": 52,
     "metadata": {},
     "output_type": "execute_result"
    }
   ],
   "source": [
    "abs_median"
   ]
  },
  {
   "cell_type": "code",
   "execution_count": 53,
   "id": "325cd560",
   "metadata": {},
   "outputs": [],
   "source": [
    "med=abs_median.median()*10.356"
   ]
  },
  {
   "cell_type": "code",
   "execution_count": 54,
   "id": "a26583de",
   "metadata": {},
   "outputs": [
    {
     "data": {
      "text/plain": [
       "0.14550180000000007"
      ]
     },
     "execution_count": 54,
     "metadata": {},
     "output_type": "execute_result"
    }
   ],
   "source": [
    "med"
   ]
  },
  {
   "cell_type": "markdown",
   "id": "45b504de",
   "metadata": {},
   "source": [
    "# skewness"
   ]
  },
  {
   "cell_type": "code",
   "execution_count": 55,
   "id": "8e34f49e",
   "metadata": {},
   "outputs": [
    {
     "data": {
      "text/plain": [
       "-0.020175732162877553"
      ]
     },
     "execution_count": 55,
     "metadata": {},
     "output_type": "execute_result"
    }
   ],
   "source": [
    "dataset['Density'].skew()"
   ]
  },
  {
   "cell_type": "markdown",
   "id": "b6ae6131",
   "metadata": {},
   "source": [
    "# kertosis"
   ]
  },
  {
   "cell_type": "code",
   "execution_count": 57,
   "id": "2363b747",
   "metadata": {},
   "outputs": [
    {
     "data": {
      "text/plain": [
       "-0.3096191237706498"
      ]
     },
     "execution_count": 57,
     "metadata": {},
     "output_type": "execute_result"
    }
   ],
   "source": [
    "dataset['Density'].kurt()"
   ]
  },
  {
   "cell_type": "markdown",
   "id": "ee288989",
   "metadata": {},
   "source": [
    "# creating data "
   ]
  },
  {
   "cell_type": "code",
   "execution_count": 58,
   "id": "e81ff558",
   "metadata": {},
   "outputs": [],
   "source": [
    "data=['bodyfat','age','weight','height','neck']\n",
    "percentage=[25,35,30,70,50]\n"
   ]
  },
  {
   "cell_type": "markdown",
   "id": "c633a8f0",
   "metadata": {},
   "source": [
    "# scatter plot"
   ]
  },
  {
   "cell_type": "code",
   "execution_count": 59,
   "id": "2b38fb25",
   "metadata": {},
   "outputs": [
    {
     "data": {
      "text/plain": [
       "<matplotlib.collections.PathCollection at 0x23c6a281e20>"
      ]
     },
     "execution_count": 59,
     "metadata": {},
     "output_type": "execute_result"
    },
    {
     "data": {
      "image/png": "[encoded data removed]",
      "text/plain": [
       "<Figure size 432x288 with 1 Axes>"
      ]
     },
     "metadata": {
      "needs_background": "light"
     },
     "output_type": "display_data"
    }
   ],
   "source": [
    "plt.scatter(data,percentage)"
   ]
  },
  {
   "cell_type": "markdown",
   "id": "33569e01",
   "metadata": {},
   "source": [
    "# line plot"
   ]
  },
  {
   "cell_type": "code",
   "execution_count": 60,
   "id": "27db7325",
   "metadata": {},
   "outputs": [
    {
     "data": {
      "text/plain": [
       "[<matplotlib.lines.Line2D at 0x23c6a4b4af0>]"
      ]
     },
     "execution_count": 60,
     "metadata": {},
     "output_type": "execute_result"
    },
    {
     "data": {
      "image/png": "[encoded data removed]",
      "text/plain": [
       "<Figure size 432x288 with 1 Axes>"
      ]
     },
     "metadata": {
      "needs_background": "light"
     },
     "output_type": "display_data"
    }
   ],
   "source": [
    "plt.plot(data,percentage,linestyle='dashdot')"
   ]
  },
  {
   "cell_type": "code",
   "execution_count": 61,
   "id": "425e7c38",
   "metadata": {},
   "outputs": [
    {
     "data": {
      "text/plain": [
       "[<matplotlib.lines.Line2D at 0x23c6a4ddc10>]"
      ]
     },
     "execution_count": 61,
     "metadata": {},
     "output_type": "execute_result"
    },
    {
     "data": {
      "image/png": "[encoded data removed]",
      "text/plain": [
       "<Figure size 432x288 with 1 Axes>"
      ]
     },
     "metadata": {
      "needs_background": "light"
     },
     "output_type": "display_data"
    }
   ],
   "source": [
    "plt.plot(data,percentage,linestyle='dashed')"
   ]
  },
  {
   "cell_type": "code",
   "execution_count": 62,
   "id": "f4aec810",
   "metadata": {},
   "outputs": [
    {
     "data": {
      "text/plain": [
       "[<matplotlib.lines.Line2D at 0x23c6a325f10>]"
      ]
     },
     "execution_count": 62,
     "metadata": {},
     "output_type": "execute_result"
    },
    {
     "data": {
      "image/png": "[encoded data removed]",
      "text/plain": [
       "<Figure size 432x288 with 1 Axes>"
      ]
     },
     "metadata": {
      "needs_background": "light"
     },
     "output_type": "display_data"
    }
   ],
   "source": [
    "plt.plot(data,percentage,linestyle='solid')"
   ]
  },
  {
   "cell_type": "code",
   "execution_count": 63,
   "id": "08fda791",
   "metadata": {},
   "outputs": [
    {
     "data": {
      "text/plain": [
       "[<matplotlib.lines.Line2D at 0x23c6a25e820>]"
      ]
     },
     "execution_count": 63,
     "metadata": {},
     "output_type": "execute_result"
    },
    {
     "data": {
      "image/png": "[encoded data removed]",
      "text/plain": [
       "<Figure size 432x288 with 1 Axes>"
      ]
     },
     "metadata": {
      "needs_background": "light"
     },
     "output_type": "display_data"
    }
   ],
   "source": [
    "plt.plot(data,percentage,linestyle='dotted')"
   ]
  },
  {
   "cell_type": "markdown",
   "id": "921e503e",
   "metadata": {},
   "source": [
    "# pie chart"
   ]
  },
  {
   "cell_type": "code",
   "execution_count": 64,
   "id": "0eb97d58",
   "metadata": {},
   "outputs": [
    {
     "data": {
      "text/plain": [
       "([<matplotlib.patches.Wedge at 0x23c6a52a400>,\n",
       "  <matplotlib.patches.Wedge at 0x23c6a52a8e0>,\n",
       "  <matplotlib.patches.Wedge at 0x23c6a52ad60>,\n",
       "  <matplotlib.patches.Wedge at 0x23c6a537220>,\n",
       "  <matplotlib.patches.Wedge at 0x23c6a5376a0>],\n",
       " [Text(1.023961123060693, 0.40187512794434593, 'bodyfat'),\n",
       "  Text(0.3242306731064896, 1.0511300921469773, 'age'),\n",
       "  Text(-0.6858388280562522, 0.8600145940217683, 'weight'),\n",
       "  Text(-0.9088625868249082, -0.6196521590940651, 'height'),\n",
       "  Text(0.806357162420836, -0.7481899001006479, 'neck')])"
      ]
     },
     "execution_count": 64,
     "metadata": {},
     "output_type": "execute_result"
    },
    {
     "data": {
      "image/png": "[encoded data removed]",
      "text/plain": [
       "<Figure size 432x288 with 1 Axes>"
      ]
     },
     "metadata": {},
     "output_type": "display_data"
    }
   ],
   "source": [
    "plt.pie(percentage,labels=data)"
   ]
  },
  {
   "cell_type": "markdown",
   "id": "d17d9b00",
   "metadata": {},
   "source": [
    "# bar plot"
   ]
  },
  {
   "cell_type": "code",
   "execution_count": 65,
   "id": "d04132ac",
   "metadata": {},
   "outputs": [
    {
     "data": {
      "text/plain": [
       "<BarContainer object of 5 artists>"
      ]
     },
     "execution_count": 65,
     "metadata": {},
     "output_type": "execute_result"
    },
    {
     "data": {
      "image/png": "[encoded data removed]",
      "text/plain": [
       "<Figure size 432x288 with 1 Axes>"
      ]
     },
     "metadata": {
      "needs_background": "light"
     },
     "output_type": "display_data"
    }
   ],
   "source": [
    "plt.bar(data,percentage)"
   ]
  },
  {
   "cell_type": "code",
   "execution_count": 66,
   "id": "52f7415a",
   "metadata": {},
   "outputs": [
    {
     "data": {
      "text/html": [
       "<div>\n",
       "<style scoped>\n",
       "    .dataframe tbody tr th:only-of-type {\n",
       "        vertical-align: middle;\n",
       "    }\n",
       "\n",
       "    .dataframe tbody tr th {\n",
       "        vertical-align: top;\n",
       "    }\n",
       "\n",
       "    .dataframe thead th {\n",
       "        text-align: right;\n",
       "    }\n",
       "</style>\n",
       "<table border=\"1\" class=\"dataframe\">\n",
       "  <thead>\n",
       "    <tr style=\"text-align: right;\">\n",
       "      <th></th>\n",
       "      <th>Density</th>\n",
       "      <th>BodyFat</th>\n",
       "      <th>Age</th>\n",
       "      <th>Weight</th>\n",
       "      <th>Height</th>\n",
       "      <th>Neck</th>\n",
       "      <th>Chest</th>\n",
       "      <th>Abdomen</th>\n",
       "      <th>Hip</th>\n",
       "      <th>Thigh</th>\n",
       "      <th>Knee</th>\n",
       "      <th>Ankle</th>\n",
       "      <th>Biceps</th>\n",
       "      <th>Forearm</th>\n",
       "      <th>Wrist</th>\n",
       "    </tr>\n",
       "  </thead>\n",
       "  <tbody>\n",
       "    <tr>\n",
       "      <th>0</th>\n",
       "      <td>1.0708</td>\n",
       "      <td>12.3</td>\n",
       "      <td>23</td>\n",
       "      <td>154.25</td>\n",
       "      <td>67.75</td>\n",
       "      <td>36.2</td>\n",
       "      <td>93.1</td>\n",
       "      <td>85.2</td>\n",
       "      <td>94.5</td>\n",
       "      <td>59.0</td>\n",
       "      <td>37.3</td>\n",
       "      <td>21.9</td>\n",
       "      <td>32.0</td>\n",
       "      <td>27.4</td>\n",
       "      <td>17.1</td>\n",
       "    </tr>\n",
       "    <tr>\n",
       "      <th>1</th>\n",
       "      <td>1.0853</td>\n",
       "      <td>6.1</td>\n",
       "      <td>22</td>\n",
       "      <td>173.25</td>\n",
       "      <td>72.25</td>\n",
       "      <td>38.5</td>\n",
       "      <td>93.6</td>\n",
       "      <td>83.0</td>\n",
       "      <td>98.7</td>\n",
       "      <td>58.7</td>\n",
       "      <td>37.3</td>\n",
       "      <td>23.4</td>\n",
       "      <td>30.5</td>\n",
       "      <td>28.9</td>\n",
       "      <td>18.2</td>\n",
       "    </tr>\n",
       "    <tr>\n",
       "      <th>2</th>\n",
       "      <td>1.0414</td>\n",
       "      <td>25.3</td>\n",
       "      <td>22</td>\n",
       "      <td>154.00</td>\n",
       "      <td>66.25</td>\n",
       "      <td>34.0</td>\n",
       "      <td>95.8</td>\n",
       "      <td>87.9</td>\n",
       "      <td>99.2</td>\n",
       "      <td>59.6</td>\n",
       "      <td>38.9</td>\n",
       "      <td>24.0</td>\n",
       "      <td>28.8</td>\n",
       "      <td>25.2</td>\n",
       "      <td>16.6</td>\n",
       "    </tr>\n",
       "    <tr>\n",
       "      <th>3</th>\n",
       "      <td>1.0751</td>\n",
       "      <td>10.4</td>\n",
       "      <td>26</td>\n",
       "      <td>184.75</td>\n",
       "      <td>72.25</td>\n",
       "      <td>37.4</td>\n",
       "      <td>101.8</td>\n",
       "      <td>86.4</td>\n",
       "      <td>101.2</td>\n",
       "      <td>60.1</td>\n",
       "      <td>37.3</td>\n",
       "      <td>22.8</td>\n",
       "      <td>32.4</td>\n",
       "      <td>29.4</td>\n",
       "      <td>18.2</td>\n",
       "    </tr>\n",
       "    <tr>\n",
       "      <th>4</th>\n",
       "      <td>1.0340</td>\n",
       "      <td>28.7</td>\n",
       "      <td>24</td>\n",
       "      <td>184.25</td>\n",
       "      <td>71.25</td>\n",
       "      <td>34.4</td>\n",
       "      <td>97.3</td>\n",
       "      <td>100.0</td>\n",
       "      <td>101.9</td>\n",
       "      <td>63.2</td>\n",
       "      <td>42.2</td>\n",
       "      <td>24.0</td>\n",
       "      <td>32.2</td>\n",
       "      <td>27.7</td>\n",
       "      <td>17.7</td>\n",
       "    </tr>\n",
       "    <tr>\n",
       "      <th>...</th>\n",
       "      <td>...</td>\n",
       "      <td>...</td>\n",
       "      <td>...</td>\n",
       "      <td>...</td>\n",
       "      <td>...</td>\n",
       "      <td>...</td>\n",
       "      <td>...</td>\n",
       "      <td>...</td>\n",
       "      <td>...</td>\n",
       "      <td>...</td>\n",
       "      <td>...</td>\n",
       "      <td>...</td>\n",
       "      <td>...</td>\n",
       "      <td>...</td>\n",
       "      <td>...</td>\n",
       "    </tr>\n",
       "    <tr>\n",
       "      <th>247</th>\n",
       "      <td>1.0736</td>\n",
       "      <td>11.0</td>\n",
       "      <td>70</td>\n",
       "      <td>134.25</td>\n",
       "      <td>67.00</td>\n",
       "      <td>34.9</td>\n",
       "      <td>89.2</td>\n",
       "      <td>83.6</td>\n",
       "      <td>88.8</td>\n",
       "      <td>49.6</td>\n",
       "      <td>34.8</td>\n",
       "      <td>21.5</td>\n",
       "      <td>25.6</td>\n",
       "      <td>25.7</td>\n",
       "      <td>18.5</td>\n",
       "    </tr>\n",
       "    <tr>\n",
       "      <th>248</th>\n",
       "      <td>1.0236</td>\n",
       "      <td>33.6</td>\n",
       "      <td>72</td>\n",
       "      <td>201.00</td>\n",
       "      <td>69.75</td>\n",
       "      <td>40.9</td>\n",
       "      <td>108.5</td>\n",
       "      <td>105.0</td>\n",
       "      <td>104.5</td>\n",
       "      <td>59.6</td>\n",
       "      <td>40.8</td>\n",
       "      <td>23.2</td>\n",
       "      <td>35.2</td>\n",
       "      <td>28.6</td>\n",
       "      <td>20.1</td>\n",
       "    </tr>\n",
       "    <tr>\n",
       "      <th>249</th>\n",
       "      <td>1.0328</td>\n",
       "      <td>29.3</td>\n",
       "      <td>72</td>\n",
       "      <td>186.75</td>\n",
       "      <td>66.00</td>\n",
       "      <td>38.9</td>\n",
       "      <td>111.1</td>\n",
       "      <td>111.5</td>\n",
       "      <td>101.7</td>\n",
       "      <td>60.3</td>\n",
       "      <td>37.3</td>\n",
       "      <td>21.5</td>\n",
       "      <td>31.3</td>\n",
       "      <td>27.2</td>\n",
       "      <td>18.0</td>\n",
       "    </tr>\n",
       "    <tr>\n",
       "      <th>250</th>\n",
       "      <td>1.0399</td>\n",
       "      <td>26.0</td>\n",
       "      <td>72</td>\n",
       "      <td>190.75</td>\n",
       "      <td>70.50</td>\n",
       "      <td>38.9</td>\n",
       "      <td>108.3</td>\n",
       "      <td>101.3</td>\n",
       "      <td>97.8</td>\n",
       "      <td>56.0</td>\n",
       "      <td>41.6</td>\n",
       "      <td>22.7</td>\n",
       "      <td>30.5</td>\n",
       "      <td>29.4</td>\n",
       "      <td>19.8</td>\n",
       "    </tr>\n",
       "    <tr>\n",
       "      <th>251</th>\n",
       "      <td>1.0271</td>\n",
       "      <td>31.9</td>\n",
       "      <td>74</td>\n",
       "      <td>207.50</td>\n",
       "      <td>70.00</td>\n",
       "      <td>40.8</td>\n",
       "      <td>112.4</td>\n",
       "      <td>108.5</td>\n",
       "      <td>107.1</td>\n",
       "      <td>59.3</td>\n",
       "      <td>42.2</td>\n",
       "      <td>24.6</td>\n",
       "      <td>33.7</td>\n",
       "      <td>30.0</td>\n",
       "      <td>20.9</td>\n",
       "    </tr>\n",
       "  </tbody>\n",
       "</table>\n",
       "<p>252 rows × 15 columns</p>\n",
       "</div>"
      ],
      "text/plain": [
       "     Density  BodyFat  Age  Weight  Height  Neck  Chest  Abdomen    Hip  \\\n",
       "0     1.0708     12.3   23  154.25   67.75  36.2   93.1     85.2   94.5   \n",
       "1     1.0853      6.1   22  173.25   72.25  38.5   93.6     83.0   98.7   \n",
       "2     1.0414     25.3   22  154.00   66.25  34.0   95.8     87.9   99.2   \n",
       "3     1.0751     10.4   26  184.75   72.25  37.4  101.8     86.4  101.2   \n",
       "4     1.0340     28.7   24  184.25   71.25  34.4   97.3    100.0  101.9   \n",
       "..       ...      ...  ...     ...     ...   ...    ...      ...    ...   \n",
       "247   1.0736     11.0   70  134.25   67.00  34.9   89.2     83.6   88.8   \n",
       "248   1.0236     33.6   72  201.00   69.75  40.9  108.5    105.0  104.5   \n",
       "249   1.0328     29.3   72  186.75   66.00  38.9  111.1    111.5  101.7   \n",
       "250   1.0399     26.0   72  190.75   70.50  38.9  108.3    101.3   97.8   \n",
       "251   1.0271     31.9   74  207.50   70.00  40.8  112.4    108.5  107.1   \n",
       "\n",
       "     Thigh  Knee  Ankle  Biceps  Forearm  Wrist  \n",
       "0     59.0  37.3   21.9    32.0     27.4   17.1  \n",
       "1     58.7  37.3   23.4    30.5     28.9   18.2  \n",
       "2     59.6  38.9   24.0    28.8     25.2   16.6  \n",
       "3     60.1  37.3   22.8    32.4     29.4   18.2  \n",
       "4     63.2  42.2   24.0    32.2     27.7   17.7  \n",
       "..     ...   ...    ...     ...      ...    ...  \n",
       "247   49.6  34.8   21.5    25.6     25.7   18.5  \n",
       "248   59.6  40.8   23.2    35.2     28.6   20.1  \n",
       "249   60.3  37.3   21.5    31.3     27.2   18.0  \n",
       "250   56.0  41.6   22.7    30.5     29.4   19.8  \n",
       "251   59.3  42.2   24.6    33.7     30.0   20.9  \n",
       "\n",
       "[252 rows x 15 columns]"
      ]
     },
     "execution_count": 66,
     "metadata": {},
     "output_type": "execute_result"
    }
   ],
   "source": [
    "dataset"
   ]
  },
  {
   "cell_type": "markdown",
   "id": "ab80b278",
   "metadata": {},
   "source": [
    "# save file"
   ]
  },
  {
   "cell_type": "code",
   "execution_count": 68,
   "id": "4d7a5ed6",
   "metadata": {},
   "outputs": [],
   "source": [
    "dataset.to_csv(\"C:/Users/Admin/Documents/simple linear regression/bodyfat.csv\")"
   ]
  },
  {
   "cell_type": "code",
   "execution_count": null,
   "id": "e9e3cc65",
   "metadata": {},
   "outputs": [],
   "source": []
  },
  {
   "cell_type": "code",
   "execution_count": null,
   "id": "8a79a337",
   "metadata": {},
   "outputs": [],
   "source": []
  }
 ],
 "metadata": {
  "kernelspec": {
   "display_name": "Python 3",
   "language": "python",
   "name": "python3"
  },
  "language_info": {
   "codemirror_mode": {
    "name": "ipython",
    "version": 3
   },
   "file_extension": ".py",
   "mimetype": "text/x-python",
   "name": "python",
   "nbconvert_exporter": "python",
   "pygments_lexer": "ipython3",
   "version": "3.8.8"
  }
 },
 "nbformat": 4,
 "nbformat_minor": 5
}
